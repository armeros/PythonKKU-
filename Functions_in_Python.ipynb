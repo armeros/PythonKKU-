{
  "nbformat": 4,
  "nbformat_minor": 0,
  "metadata": {
    "colab": {
      "provenance": []
    },
    "kernelspec": {
      "name": "python3",
      "display_name": "Python 3"
    },
    "language_info": {
      "name": "python"
    }
  },
  "cells": [
    {
      "cell_type": "markdown",
      "source": [
        "### **Exercise: Recapping built-in functions**\n",
        "\n",
        "Let `x = 4.9`\n",
        "\n",
        "* Assign `str(x)` to a variable `y1`: `y1 = str(x)`\n",
        "* Assign `print(x)` to a variable `y2`: `y2 = print(x)`\n",
        "* Check the types of the variables `x`, `y1`, and `y2`.\n",
        "* What are the types of `x`, `y1`, and `y2`?"
      ],
      "metadata": {
        "id": "kOmYNdyoRllC"
      }
    },
    {
      "cell_type": "code",
      "source": [],
      "metadata": {
        "id": "YZOvCILBSJfS"
      },
      "execution_count": null,
      "outputs": []
    },
    {
      "cell_type": "markdown",
      "source": [
        "# **Writing your own function**\n",
        "\n",
        "Builtin functions are not enough."
      ],
      "metadata": {
        "id": "Xk_KuA2x9yph"
      }
    },
    {
      "cell_type": "code",
      "source": [
        "def your_function(): # must have :\n",
        "    do something\n",
        "    return something # optional"
      ],
      "metadata": {
        "id": "tK784eUnP0MN"
      },
      "execution_count": null,
      "outputs": []
    },
    {
      "cell_type": "markdown",
      "source": [
        "## **Variables in function**\n",
        "\n",
        "Let's write a function that raise the power of two to a number"
      ],
      "metadata": {
        "id": "VCWDhKT-QJcN"
      }
    },
    {
      "cell_type": "code",
      "source": [
        "def square(x):\n",
        "    return x**2\n",
        "\n",
        "square(3)"
      ],
      "metadata": {
        "id": "OgMgEwLRQgYY"
      },
      "execution_count": null,
      "outputs": []
    },
    {
      "cell_type": "code",
      "source": [
        "# You can prompt your input\n",
        "\n",
        "square(float(input()))"
      ],
      "metadata": {
        "id": "IhXegAD7RBZW"
      },
      "execution_count": null,
      "outputs": []
    },
    {
      "cell_type": "markdown",
      "source": [
        "### **Exercise: Consumer surplus function of linear demand**\n",
        "\n",
        "* Look at the picture\n",
        "\n",
        "![image.png](data:image/png;base64,iVBORw0KGgoAAAANSUhEUgAAAggAAAGSCAIAAAAJi66MAAAgAElEQVR4nO3daXCUdb728W8nHRISQghEAmGVRUAQhAFBQECRTZRFUJA1JOm2znhq6qk6NS/OOTOlYz1PzZk628zUlDV2J2EJhEX2RXBBURRxQBAEWSIMSATDmsWEhCR9Py9yjzNBwZCk+9/L9XnFFRL6siS5qn8JicOyLERERP4mynQBEREJLhoGERGpR8MgIiL1aBhERKQeDYOIiNSjYRARkXo0DCIiUo+GQURE6gnoMFiWVVpaqn9SJyISzAI6DGVlZUlJSWVlZYF8UBERuSc6JYmISD0aBhERqUfDICIi9WgYRESkHg2DiIjUo2EQEZF6NAwiIlKPhkFEROrRMIiISD0aBhERqUfDICIi9WgYRESkHg2DiIjU09RhePnllx966KGEhITU1NR/+qd/qq6uvttr6xtui4gEvSYNg2VZlmW9/vrrX3755bJlyzZs2JCdnX23N9izB+D06aY8qIiI+JWzKW/scDheffXVul9369btySefPHXq1G2vU1VVVVVVBTjOn7+1YQPAa68xcyZTpxKlQ5aISNBp0ofm8+fPv/TSSwMGDEhOTm7VqtW6des6d+582+v89re/TUpKSkpKShs48Fd5eQCWxfbt/O//UlzclEcXERF/cDT6B21euXKlf//+TzzxREZGRqdOnWpra4cOHbpjx44JEyb846t9/4wBKC0p6dK1a0lGRmunEyAxkYwMHnywaf8JIiLSnBp/Stq2bVttbe3q1asdDgfwpz/9qbq6+uGHH77t1WJjY2NjY+u96J//mTVrKC6mrIw//IEpU5g2TWclEZEg0fgPx+3atSstLd26dWtBQcH//M///OY3v+nUqdN9993302/Zsye//jUPPWTHnTv57//mxo1GNxERkWbU+FOSz+f7+c9/np+f37JlywULFlRWVp4/f3779u13eZPS0tKkpKSSkpLWrVtjWbzzDps24fMBJCSwZMnf10JERAxp/DA0Qr1hqHP2LF4v16/bceJEZswgOjpglURE5DamhwEoL2f5co4csWOPHmRl0a5dwFqJiMg/CoJhACyL995jwwZqawHi40lPZ9CggBUTEZHvBccw1Dl3Dq+Xq1ftOH48zz6Ls0n/BE9ERO5VMA0DUFFBXh6HDtmxWzfcblJSAtZQRESCbBgAy+KDD3jjDWpqAOLiWLyYIUMCVlJEJMIF3zDUuXABj4fLl+04bhyzZxMT4++GIiISrMMAVFayciUHDtixSxfcbtq392tDEREJ4mEALIuPPmLtWup+zENsLAsXMmyYX0uKiES44B6GOoWFeDwUFdnxsceYM0dnJRERPwmFYQCqqsjPZ/9+O3bqhNtNhw7N3lBEREJkGOrs20d+vn1WatGC+fMZMaJ5G4qISEgNA3DpEh4PFy/aceRI5s7ltm/rLSIiTRBqwwDcusWaNXz8sR07dsTtJi2tWRqKiEgIDkOdTz9l1SrqfjZcTAwvvMDIkTgcTS8pIhLhQnYYgKIiPB4KC+04fDjz5+usJCLSRKE8DEB1NevW8eGHdkxNxe2mc+fm+cNFRCJSiA9DnYMHycujshLA6WTOHB57TGclEZHGCYthAC5fxuvl66/tOHQoCxcSF9fMjyIiEgHCZRiAmhrWr+f99+1433243XTt2vwPJCIS1sJoGOocPszy5dy8CeB0Mns248bprCQi0nBhNwzA1at4vZw7Z8fBg1m0iPh4Pz6iiEgYCcdhAGpq2LSJd9+1Y7t2uN107+7fBxURCQthOgx1jhxh2TIqKgCio3n2WcaP11lJROTuwnoYgOvX8Xo5e9aOAweSnk5CQoAeXUQkBIX7MAC1tWzZwltv2TE5GZeLnj0DV0BEJKREwDDUOXaMpUv57juAqChmzGDiRJ2VRER+KGKGASguJjubggI7DhhAejqJiQaaiIgEsUgaBsDnY9s2du6k7r+6TRuysujd20wZEZGgFGHDUOfECXJyKCsDcDiYNo0pU3RWEhGpE5HDAJSUkJPDqVN27NePjAyMtxIRCQKROgyAz8ebb7J9u31Wat2azEz69jVdS0TEsAgehjqnTpGdTWkpgMPB1KlMnUpUlOlaIiLGRPwwAGVl5ORw4oQdH3iArCySkox2EhExRsMAgGWxaxdbtthnpcREMjJ48EHTtUREDNAw/IOCArKzKS4GcDiYPJlp03RWEpFIo2Go77vvWLqUY8fs2Ls3mZkkJxvtJCISUBqGH7As3nmHTZvw+QASEsjIYMAA07VERAJEw3AHZ8/i9XL9uh0nTmTGDKKjjXYSEQkEDcOdlZezfDlHjtixRw9cLtq2NdpJRMTvNAx3ZVm89x4bNlBbCxAfT3o6gwaZriUi4kcahgY4dw6vl6tX7Th+PM8+i9NptJOIiL9oGBqmooK8PA4dsmP37rhcpKQY7SQi4hcahgazLD74gDfeoKYGoGVLFi1iyBDTtUREmpmG4R59/TUeD1eu2HHcOGbPJibGaCcRkeakYbh3lZXk5XHwoB27dMHtpn17o51ERJqNhqFRLIuPPmLNGvusFBfHggUMG2a6lohIM9AwNEFhIR4PRUV2fOwx5szRWUlEQp2GoWmqqsjPZ/9+O3bujNtNaqrRTiIiTaJhaDLL4pNPyM+nuhogNpb58xk+3HQtEZFG0jA0k4sX8Xi4dMmOI0fywgu0aGG0k4hIY2gYms+tW6xZw8cf27FjR9xu0tKMdhIRuWcahua2fz/5+VRVAcTEMG8ejz6Kw2G6lohIQ2kY/ODbb/F4+OYbOw4fzvz5xMYa7SQi0lAaBv+ormbdOj780I6pqbjddO5stJOISINoGPzpwAFWrqSyEsDpZO5cRo/WWUlEgpyGwc8uX8bj4cIFOw4bxoIFxMUZ7SQicjcaBv+rrmbDBt5/347t2+N206WL0U4iInekYQiUQ4dYsYKbNwGcTp57jrFjdVYSkSCkYQigq1fxejl3zo5DhrBwIfHxRjuJiNxOwxBYNTVs3Mju3XZMScHlont3o51EROrRMJhw5AjLllFRARAdzaxZPPGEzkoiEiQ0DIZcu0Z2NmfP2nHQIBYvJiHBaCcREdAwmFRby5YtvPWWHdu2xeWiRw+jnURENAzGHTtGbi7l5QBRUcycyYQJOiuJiEEahiBw4wbZ2Xz1lR0HDGDJElq1MtpJRCKXhiE4+Hxs3cquXdT972jThqwsevc2XUtEIpGGIZh8+SW5uZSVAURFMW0akyfrrCQiAaZhCDIlJeTkcOqUHfv1IzOTxESjnUQksmgYgo/Px44d7Nhhn5VatyYriz59TNcSkUihYQhWJ0+Sk0NpKYDDwdNP89RTREWZriUi4U/DEMRKS8nN5cQJO/btS0YGSUlGO4lI+NMwBDfLYudOtm61z0qJiWRm0q+f6VoiEs40DKGgoIDsbIqLARwOpkzhmWd0VhIRP9EwhIiyMpYt49gxO/buTWYmyclGO4lIeNIwhA7L4u232bwZnw8gIYGMDAYMMF1LRMKNhiHUnDmD18uNG3acNInp04mONtpJRMKKhiEElZezfDlHjtixRw9cLtq2NdpJRMKHhiE0WRa7d7NxI7W1APHxpKczaJDpWiISDjQMoezcOTwerl2z45NPMnMmTqfRTiIS8jQMIa6ighUrOHzYjt2743KRkmK0k4iENg1D6LMs9uxh/XpqagBatmTxYgYPNl1LREKVhiFcfP01Hg9Xrtjx8ceZPVtnJRFpBA1DGKmsJC+Pgwft2LUrLhft2xvtJCKhR8MQXiyLvXtZu9Y+K8XFsXAhQ4eariUioUTDEI4KC/F4KCqy45gxPP88MTFGO4lIyNAwhKmqKlat4tNP7di5M243qalGO4lIaNAwhC/LYt8+Vq+muhogNpb58xk+3HQtEQl2GoZwd/EiHg+XLtlx1CjmzqVFC6OdRCSoaRgiQFUVa9awb58d09Jwu+nY0WgnEQleGoaIsX8/+flUVQHExDBvHiNHmu4kIsFIwxBJvv0Wj4dvvrHjiBHMm0dsrNFOIhJ0NAwRprqatWvZu9eOHTrgdtOpk9FOIhJcNAwR6cAB8vL+flaaM4fRo3E4TNcSkaCgYYhUly/j8XDhgh2HDWPBAuLijHYSkaCgYYhg1dWsX8+ePXZs3x63my5djHYSEfM0DBHv0CGWL6eyEsDp5LnnGDtWZyWRSKZhELh6FY+H8+ftOGQIixbRsqXRTiJijIZBAKipYeNGdu+2Y0oKLhfduxvtJCJmaBjkHxw5wrJlVFQAREczaxZPPKGzkkik0TBIfdeukZ3N2bN2HDSIxYtJSDDaSUQCSsMgP1Bby+bNvP22Hdu2xeWiRw+jnUQkcDQMcgdffMHSpZSXA0RFMXMmEyborCQSCTQMcmc3bpCdzVdf2fGhh0hPp1Uro51ExO80DHJXPh9bt7Jzpx2Tk8nKolcvo51ExL80DNIAx4+zdCllZQBRUUybxuTJOiuJhCsNgzRMcTE5OZw+bccHHyQjg8REo51ExC80DNJgPh87drBjB3V/Z5KSyMrigQdM1xKRZqZhkHt08iQ5OZSWAjgcPP00Tz1FVJTpWiLSbDQMcu9KS8nN5cQJO/btS2Ym+n8qEi40DNIoPh+7drF1q31WSkwkM5N+/UzXEpFmoGGQJigoIDub4mIAh4MpU3jmGZ2VREKdhkGapqyMpUs5ftyOvXuTlUWbNkY7iUiTaBikySyLt99m82Z8PoBWrcjIoH9/07VEpJE0DNJMzpzB6+XGDTtOmsT06URHG+0kIo2hYZDmU17OsmUcPWrHnj1xuUhONtpJRO6ZhkGalWWxezcbNthnpYQE0tMZONB0LRG5BxoG8YNz5/B4uHbNjk8+ycyZOJ1GO4lIQ2kYxD8qKlixgsOH7di9Oy4XKSlGO4lIg2gYxG8siz17WL+emhqAli1ZvJjBg03XEpGfoGEQPzt/Hq+XK1fs+PjjzJ6ts5JIMNMwiP/dvMnKlRw8aMdu3XC5uO8+o51E5I40DBIQlsXevaxda5+V4uJYuJChQ03XEpEfoWGQACosxOOhqMiOY8bw/PPExBjtJCK30zBIYFVWkp/Pp5/asXNn3G5SU412EpF6NAwScJbFvn2sXk11NUBsLPPnM3y46VoiYtMwiCEXL+LxcOmSHUeNYu5cWrQw2klEQMMgJlVVsWYN+/bZMS0Nt5uOHY12EhENgxi3fz+rVnHrFkCLFrzwAiNHmu4kEtE0DBIEvv2W11/n4kU7jhjBvHnExhrtJBK5NAwSHKqrWbuWvXvt2KEDbjedOhntJBKhNAwSTA4cIC+PqiqAmBjmzmXUKBwO07VEIouGQYJMURFeLxcu2HHYMBYsIC7OaCeRyKJhkOBTXc369ezZY8f27XG76dLFaCeRCKJhkGD12WesWEFlJYDTyfPPM2aMzkoiAaBhkCB25QpeL+fP2/FnP2PhQlq2NNpJJPxpGCS41dSwcSO7d9sxJQW3m27djHYSCXMaBgkFn3/O8uVUVABERzN7No8/rrOSiJ9oGCREXLuG18tf/2rHhx9m8WLi4412EglPGgYJHbW1bN7M22/bsV07XC7uv99oJ5EwpGGQUPPFFyxdSnk5QFQUzz7Lk0/qrCTSjDQMEoJu3MDr5cwZOz70EEuWkJBgtJNI+NAwSGjy+di6lZ077ZicjMtFz55GO4mECQ2DhLLjx1m6lLIygKgopk9n0iSdlUSaSMMgIa64mJwcTp+2Y//+LFlCYqLRTiKhTcMgoc/nY8cOduyg7i9zUhJZWTzwgOlaIqFKwyDh4uRJcnIoLQVwOHjmGaZMISrKdC2R0KNhkDBSWkpODidP2rFvXzIz0V82kXukYZDw4vOxaxdbt9pnpdatycykb1/TtURCiYZBwtHp0+TkUFwM4HDw1FM8/bTOSiINpGGQMFVWxtKlHD9ux969ycqiTRujnURCg4ZBwpdl8fbbbN6MzwfQqhUZGfTvb7qWSLDTMEi4O3MGr5cbN+w4eTLTp+usJHIXGgaJAOXlLFvG0aN27NkTl4vkZKOdRIKXhkEig2WxezcbNthnpYQE0tMZONB0LZFgpGGQSPLXv+L1cu2aHSdMYMYMnE6jnUSCjoZBIkxFBcuX8/nndrz/flwu2rUz2kkkuGgYJPJYFu+/z/r11NYCxMezeDEPP2y6lkiw0DBIpDp/Ho+Hq1ft+MQTzJqls5IIGgaJaDdvkpfHZ5/ZsVs3XC7uu89oJxHzNAwS2SyLvXtZu5aaGoC4OBYt4mc/M11LxCQNgwhcuIDHw+XLdhw7lueeIybGaCcRYzQMIgBUVrJqFX/5ix07d8btJjXVaCcRMzQMIn9jWezbx+rVVFcDxMayYAGPPGK6lkigaRhE6rt4kddf59tv7Th6NHPm0KKF0U4iAaVhEPmBqipWr+aTT+yYlobbTceORjuJBI6GQeQOPvmE/Hxu3QJo0YJ583j0UdOdRAJBwyByZ5cu4fFw8aIdH32UF14gNtZoJxG/0zCI3NWtW6xdy0cf2bFjR9xu0tKMdhLxLw2DSAP85S+sXElVFUBMDHPnMmoUDofpWiJ+oWEQaZiiIjweCgvt+MgjzJ9PXJzRTiJ+oWEQabDqat54gw8+sGNqKi4XXboY7STS/DQMIvfo4EHy8qisBHA6ef55xozRWUnCiYZB5N5duYLXy/nzdhw6lAULaNnSaCeRZqNhEGmUmho2bOC99+yYkoLbTbduRjuJNA8Ng0gTHD7MihVUVAA4ncyezbhxOitJqNMwiDTNtWt4PJw7Z8fBg1m0iPh4o51EmkTDINJkNTVs3sw779ixXTtcLu6/32gnkcbTMIg0k6NHWbaM8nKAqChmzWL8eJ2VJBRpGESaz40beL2cOWPHgQNJTychwWgnkXumYRBpVrW1bN3Krl12TE7G5aJnT6OdRO6NhkHED44fJzeX774DiIpi+nQmTdJZSUKFhkHEP4qLyc6moMCO/fuzZAmJiUY7iTSIhkHEb3w+tm/nzTepey9r04asLHr3Nl1L5CdoGET87MQJcnMpLQVwOJg2jcmTiYoyXUvkjjQMIv5XWkpODidP2rFvXzIz0XuBBCsNg0hA+Hzs3Mm2bfZZqXVrMjPp29d0LZEfoWEQCaDTp8nOpqQEwOFg6lSmTtVZSYKNhkEksMrKWLqU48ft+MADZGbSpo3RTiL1aBhEAs6yeOsttmzB5wNITGTJEvr3N11LxNYMz2HrpuWVV175/tcicjcOB5Mn8y//QnIyQFkZf/wjmzfbOyFiWjM8Y3jttdecTmdBQUF0dPSUKVPGjh17p9fUMwaResrLWbqUL76wY8+euFz2WoiY0zynpP/8z//81a9+9d57740aNeour6ZhELmdZfHuu2zcaD9dSEhgyRIeesh0LYloDT0ljR071uFwOByOmJiYPn365Ofnf/9bf/7zn5OSkn7xi19s27Zt7969/ukpEqYcDiZM4Je/pF07gPJy/vQnNmygttZ0M4lcDXrGYFlWUlLSv/3bv6Wnp1dUVLz66qurVq06ffr0/fffX/e7DofjlVdeeeWVV+p+fac/pOjajY73tbt05ZqeMYjcruImq1Zx9Kgdu3cjfQnt2hrtJMGrZUz0nT7YNl2DhuH06dN9+vTZu3fv6NGjgVOnTvXt23fz5s3Tp0//ybetqqqqqqoCKm7VPvL/3r3w++e7/J91UbH6wYciIo335auT4ls4/fSHN+iU9NlnnzkcjoEDB9bFwsJCIDU1tSFv+9vf/jYpKSkpKSktrWOjW4qISMA06BnDL3/5y40bN545cwY4efLk/PnzfT7fZ599FtWAf7H5/TMGy7IuXy9+oEd3nZJEfsLNSvLz+fxzO3btypIlpLQz2kmCi/lT0vjx4/fs2dOyZcuamhqHwzFnzpzf/e53DXzG8I/0VUkiDWVZfPgh69ZRUwMQF8fixQwZYrqWRIQGDUNycvKLL76YlZUVHx/fsWPHRs+UhkHk3ly4gMfD5ct2HDeO2bOJiTHaScLfT9+Czp49W1xcPGHChF69eqWlpfnvyYuI3K5LF/793xk2zI579vC73/19J0T846eHoe4zz0OHDg1AGxG5XVwcmZksXGg/Ubhwgf/7fzlwwHQtCWc/PQyHDh3q1atXUlJSANqIyI9wOBg9mn/9Vzp0AKiqIjublSuprjbdTMKTvruqSOioqiI/n/377ZiWxosv2msh0nw0DCKhZt8+Vq/m1i2AFi2YP58RI0x3krCiYRAJQZcu4fFw8aIdR45k7lxiY412kvChYRAJTbdusWYNH39sx44dcbtJSzPaScKEhkEklH36KatWUVUFEBPDCy8wciT6mnJpGg2DSIgrKsLjobDQjsOHM28ecXFGO0lo0zCIhL7qatat48MP7ZiaittN585GO0kI0zCIhIuDB8nLo7ISwOlkzhwee0xnJWkEDYNIGLlyBY+Hr7+249ChLFyos5LcKw2DSHipqWH9et5/34733YfbTdeuRjtJiNEwiISjw4dZvpybNwGcTmbPZtw4nZWkgTQMImHq6lW8Xs6ds+PgwSxaRLx+qq78NA2DSPiqqWHTJt59147t2uF207270U4SAjQMIuHu6FGWLqWiAiAqilmzGD9eZyW5Cw2DSAS4fp3sbM6csePAgaSnk5BgtJMELw2DSGSorWXLFt56y47Jybhc9OxptJMEKQ2DSCQ5fpzcXL77DiAqihkzmDhRZyW5jYZBJMIUF5OdTUGBHQcMID2dxESjnSS4aBhEIo/Px7Zt7NxJ3bt/mzZkZdG7t+laEiw0DCKR6sQJcnIoKwNwOJg2jSlTdFYSNAwiEa2khNxcTp60Y79+ZGSgd8+Ip2EQiWw+H2++yfbt9lmpdWsyM+nb13QtMUnDICJw+jTZ2ZSUADgcTJ3K1KlERZmuJWZoGEQEgLIycnP58ks7PvAAmZm0aWO0k5ihYRCRv7Esdu1i61Z8PoDERDIyePBB07Uk0DQMIlLfV1/h9VJcDOBwMHky06bprBRRNAwi8gPffceyZXzxhR179SIri+Rko50kcDQMIvJjLIt33mHTJvuslJBARgYDBpiuJYGgYRCROzt7Fq+X69ftOHEiM2YQHW20k/idhkFE7qq8nOXLOXLEjj16kJVFu3ZGO4l/aRhE5KdYFu+9x4YN1NYCxMeTns6gQaZrib9oGESkYc6dw+vl6lU7jh/Ps8/idBrtJH6hYRCRBquoIC+PQ4fs2K0bbjcpKUY7SfPTMIjIvbAsPviAN96gpgYgLo7FixkyxHQtaU4aBhG5dxcu4PFw+bIdx41j9mxiYox2kmajYRCRRqmsZOVKDhywY5cuuN20b2+0kzQPDYOINJZl8dFHrF1LdTVAXBwLFjBsmOla0lQaBhFpmsJCPB6Kiuz42GPMmaOzUkjTMIhIk1VVkZ/P/v127NQJt5sOHYx2ksbTMIhIM9m3j/x8+6wUG8u8eYwYYbqTNIaGQUSaz6VLeDxcvGjHkSOZO5fYWKOd5J5pGESkWd26xZo1fPyxHTt2xO0mLc1oJ7k3GgYR8YNPP2XVKqqqAGJimDePRx/F4TBdSxpEwyAi/lFUhMdDYaEdhw9n/nydlUKChkFE/Ka6mnXr+PBDO6am4nbTubPRTvLTNAwi4mcHD5KXR2UlgNPJnDk89pjOSsFMwyAi/nf5Ml4vX39tx6FDWbiQuDijneSONAwiEhA1Naxfz/vv27F9e1wuunY12kl+nIZBRALo8GGWL+fmTQCnk9mzGTdOZ6Vgo2EQkcC6ehWvl3Pn7DhkCAsXEh9vtJPUo2EQkYCrqWHTJt59144pKbhcdO9utJP8nYZBRAw5coRly6ioAIiOZtYsnnhCZ6VgoGEQEXOuX8fr5exZOw4axOLFJCQY7SQaBhExq7aWLVt46y07JifjdtOjh9FOkU7DICJB4NgxcnMpLweIimLGDCZO1FnJFA2DiASHGzfIyaGgwI4DBrBkCa1aGe0UoTQMIhI0fD62bWPnTuo+LrVpQ1YWvXubrhVxNAwiEmROnCAnh7IyAIeDadOYMkVnpUDSMIhI8CkpISeHU6fs2K8fGRno40agaBhEJCj5fLz5Jtu322el1q3JyqJPH9O1IoKGQUSC2KlTZGdTWgrgcPD00zz1FFFRpmuFOQ2DiAS3sjJycjhxwo59+pCZSVKS0U5hTsMgIkHPsti1iy1b7LNSYiKZmfTrZ7pW2NIwiEiIKCggO5viYgCHgylTeOYZnZX8QcMgIqHju+9YupRjx+zYuzeZmSQnG+0UhjQMIhJSLIt33mHTJnw+gIQEMjIYMMB0rbCiYRCREHT2LF4v16/bceJEZswgOtpop/ChYRCR0FRezvLlHDlixx49cLlo29ZopzChYRCRkGVZvPceGzZQWwsQH096OoMGma4V8jQMIhLizp3D6+XqVTs++SQzZ+J0Gu0U2jQMIhL6KirIy+PQITt2747LRUqK0U4hTMMgImHBsvjgA954g5oagJYtWbyYwYNN1wpJGgYRCSNff43Hw5Urdnz8cWbP1lnpXmkYRCS8VFaSl8fBg3bs2hWXi/btjXYKMRoGEQk7lsVHH7FmjX1Wiotj4UKGDjVdK2RoGEQkTBUW4vFQVGTHMWN4/nliYox2Cg0aBhEJX1VV5Oezf78dO3fG7SY11WinEKBhEJGwZll88gn5+VRXA8TGMn8+w4ebrhXUNAwiEgEuXsTj4dIlO44axdy5tGhhtFPw0jCISGS4dYs1a/j4Yzt27MiLL9Kxo9FOQUrDICKRZP9+8vOpqgKIiWHePB59FIfDdK3gomEQkQjz7bd4PHzzjR1HjGDePGJjjXYKLhoGEYk81dWsW8eHH9qxQwdcLjp3NtopiGgYRCRSHTjAypVUVgLExDBnDqNH66yEhkFEItrly3g8XLhgx2HDWLCAuDijnczTMIhIZKuuZv169uyxY/v2uN106WK0k2EaBhEROHSIFSu4eRPA6eS557IG0sMAAAa+SURBVBg7NmLPShoGEREArl7F6+XcOTsOGcLChcTHG+1khoZBRORvamrYuJHdu+2YkoLLRffuRjsZoGEQEanvyBGWLaOiAiA6mlmzeOKJiDoraRhERH7g2jWyszl71o6DBrF4MQkJRjsFjoZBROTH1NayZQtvvWXHtm1xuejRw2inANEwiIjc2bFj5OZSXg4QFcXMmUyYEPZnJQ2DiMhd3bhBdjZffWXHhx4iPZ1WrYx28i8Ng4jIT/H52LqVXbuo+4DZpg0uF716ma7lLxoGEZGG+fJLcnMpKwOIimLaNCZPDsuzkoZBRKTBSkrIyeHUKTs++CAZGSQmGu3U/DQMIiL3wudjxw527LDPSklJZGXxwAOmazUnDYOIyL07eZKcHEpLARwOnn6ap54iKsp0reahYRARaZTSUnJzOXHCjn37kplJWHxw0zCIiDSWZbFzJ1u32melxEQyM+nXz3StptIwiIg0TUEB2dkUFwM4HEyZwjPPhPRZScMgItJkZWUsW8axY3bs3ZusLNq0Mdqp8TQMIiLNwbJ4+202b8bnA2jViowM+vc3XasxNAwiIs3nzBm8Xm7csOOkSUyfTnS00U73TMMgItKsystZtoyjR+3YsydZWbRta7TTvdEwiIg0N8ti9242bqS2FiAhgfR0Bg40XauhNAwiIv5x7hweD9eu2fHJJ5k5E6fTaKcG0TCIiPhNRQUrVnD4sB27d8flIiXFaKefpmEQEfEny2LPHtavp6YGoGVLFi9m8GDTte5GwyAi4n9ff43Hw5Urdnz8cWbPDtqzkoZBRCQgKivJy+PgQTt27YrLRfv2Rjv9OA2DiEigWBZ797J2rX1Wiotj4UKGDjVd63YaBhGRwCosxOOhqMiOY8bw/PPExBjtVI+GQUQk4KqqWLWKTz+1Y+fOuN2kphrt9HcaBhEREyyLfftYvZrqaoDYWObPZ/hw07VAwyAiYtLFi3g8XLpkx1GjmDuXFi2MdtIwiIiYVVXFmjXs22fHtDTcbjp2NNhIwyAiEgT27yc/n6oqgBYteOEFRo401UXDICISHL79Fo+Hb76x44gRzJtHbGzgi2gYRESCRnU1a9eyd68dO3TA7aZTpwC30DCIiASZAwfIy7PPSjExzJnD6NE4HAF7fA2DiEjwuXwZj4cLF+w4bBgLFhAXF5gH1zCIiASl6mrWr2fPHju2b4/bTZcuAXhkDYOISBA7dIjly6msBHA6ee45xo7191lJwyAiEtyuXsXj4fx5Ow4ZwqJFtGzpvwfUMIiIBL2aGjZuZPduO6ak4HbTrZufHu0ehsGyrLKysqY8WGlpaZcuXS5cuKBhEBG5Z198wapV3LwJEBvLyy+TkNCUPy8xMdHxo1cpq8FKSkqa0kBERIJKSUnJj3601zMGkWCkdxa5o9paDhxg+PCmfwr6Ts8Y9DkGkWCkdxYxKMp0ARERCS4aBhERqUfDIBKMYmNjX3755VgT31lTRJ9jEBGRevSMQURE6tEwiIhIPRoGERGpR8MgIiL1aBhEQkDdF4m88sor3/9axH/0VUkiIeC1115zOp0FBQXR0dFTpkwZO3as6UYSzvSMQSQE/PznPy8pKfnjH//4zDPPaBXE3zQMIkHh888/nzt3bocOHVq0aNGzZ89XX321pqbm+9/985//nJSU9Itf/GLbtm179+412FMigYZBxLzc3NxHHnkkNTV1+/btJ06c+PWvf/373/8+MzPz+1d48cUX3W53QkLCf/zHf4wePdpgVYkE+hyDiGF79uwZP3780qVLFy1a9P0LvV6v2+0uKCjo1auXwW4SmQI6DHU/0eGOPzNIJCINGjSoS5cu27dv/8cXnj59uk+fPuvXr581a5apYhKxAnpKcjgcrVu31iqIfO/w4cNHjx596aWXbnv5zZs3AafTaaKURDp9jkHEpM8//xx4+OGHb3v5oUOHgIEDBxroJBFPwyBi0q1bt4C4uLjbXv7aa6+NGTPm/vvvN1FKIp2GQcSkQYMGAR988ME/vvC//uu/Tpw48Yc//MFQKYl0umCKmDRixIhJkya99NJL1dXVQ4cOLSoqys7OXrNmzaZNm354XxIJjIB+VZKI/FBFRcVvfvObtWvXFhYW1tbWTp48OScnJy0tzXQviVwaBpEgkpWV9f7773/22Wdt2rQx3UUiV3Td92sUkWAwadKkmzdvxsTE6NPOYpCeMYiISD36qiQREalHwyAiIvVoGEREpB4Ng4iI1KNhEBGRejQMIiJSj4ZBRETq0TCIiEg9GgYREalHwyAiIvVoGEREpB4Ng4iI1PP/AcPODyetof4gAAAAAElFTkSuQmCC)\n",
        "* We need to find the area of triangle.\n",
        "  - We need the functional form of demand, i.e., $P = a - bP$\n",
        "  - We need equilibrium price and quantity\n",
        "  - Write a function that return consumer surplus with the name `CS`"
      ],
      "metadata": {
        "id": "t5TQmIHhSgK5"
      }
    },
    {
      "cell_type": "markdown",
      "source": [
        "### **Exercise: Write a simple function**\n",
        "\n",
        "Recall that the function body is indented <u>4 spaces</u> already for you. Function bodies need to be indented by a consistent number of spaces and the choice of 4 is common.\n",
        "\n",
        "* Write a function with the name of the function `shout`.\n",
        "* Variable must be named `word`\n",
        "* In the function body, concatenate the string of your word with another string, `'!!!'`\n",
        "* Return the output\n",
        "* Call the function shout(str(input())) to shout the string of your word."
      ],
      "metadata": {
        "id": "tO2H-qi7WKgh"
      }
    },
    {
      "cell_type": "code",
      "source": [],
      "metadata": {
        "id": "W5my-5SnXYxM"
      },
      "execution_count": null,
      "outputs": []
    },
    {
      "cell_type": "markdown",
      "source": [
        "# **2 or more variables functions**\n",
        "\n",
        "For example, instead of square, we want to write a function named `power`.\n",
        "* You need 2 variables, the base and the power.\n",
        "* Do it!"
      ],
      "metadata": {
        "id": "2SnRiQH-dvTM"
      }
    },
    {
      "cell_type": "code",
      "source": [],
      "metadata": {
        "id": "pYhBR4u7eELF"
      },
      "execution_count": null,
      "outputs": []
    },
    {
      "cell_type": "markdown",
      "source": [
        "* Write a function that returns two outputs, e.g., `base^power` and `power^base`"
      ],
      "metadata": {
        "id": "tEQCg9Q5emnN"
      }
    },
    {
      "cell_type": "code",
      "source": [],
      "metadata": {
        "id": "xU33KTF-fItj"
      },
      "execution_count": null,
      "outputs": []
    },
    {
      "cell_type": "markdown",
      "source": [
        "### **Exercise: shout multiple words**\n",
        "\n",
        "* Write a function named `shout` such that it accepts two parameters, `word1` and `word2`, in that order.\n",
        "* Inside a function body, concatenate each of `word1` and `word2` with `'!!!'` and assign to `shout1` and `shout2`, respectively.\n",
        "* Concatenate shout1 and shout2 together, in that order, and assign to `new_shout`.\n",
        "* Prompt the input for word1 and word 2 and display the result of this function."
      ],
      "metadata": {
        "id": "cYB65lzifIIR"
      }
    },
    {
      "cell_type": "code",
      "source": [
        "word1 = str(input())\n",
        "word2 = str(input())"
      ],
      "metadata": {
        "id": "lmD7fA1agCbK"
      },
      "execution_count": null,
      "outputs": []
    },
    {
      "cell_type": "markdown",
      "source": [
        "### **Exercise: Using functions in pandas**"
      ],
      "metadata": {
        "id": "37NPPcHGgqtM"
      }
    },
    {
      "cell_type": "markdown",
      "source": [
        "* Import the pandas package with the alias `pd`.\n",
        "- Import the file `'tweets.csv'` using the pandas function `read_csv()`. Assign the resulting DataFrame to `df`.\n",
        "* Initialize an empty dictionary: `langs_count`\n",
        "\n",
        "- Complete the `for` loop by iterating over `col`, the `'lang'` column in the DataFrame `df`.\n",
        "- Complete the bodies of the if-else statements in the for loop:\n",
        "  - if the key is in the dictionary `langs_count`, add `1` to the value corresponding to this key in the dictionary,\n",
        "  - else add the key to `langs_count` and set the corresponding value to `1.` Use the loop variable `entry` in your code."
      ],
      "metadata": {
        "id": "UV2OY1a77ST1"
      }
    },
    {
      "cell_type": "code",
      "source": [
        "# Import pandas\n",
        "\n",
        "\n",
        "# Import Twitter data as DataFrame: df\n",
        "df = ____\n",
        "\n",
        "# Initialize an empty dictionary: langs_count\n",
        "\n",
        "\n",
        "# Iterate over 'lang' column in DataFrame\n",
        "for entry in ____:\n",
        "\n",
        "    # If the language is in langs_count, add 1\n",
        "    if entry in langs_count.keys():\n",
        "        ____\n",
        "    # Else add the language to langs_count, set the value to 1\n",
        "    else:\n",
        "        ____\n",
        "\n",
        "# Print the populated dictionary\n",
        "print(langs_count)"
      ],
      "metadata": {
        "id": "W-2ulyjLjLbC"
      },
      "execution_count": null,
      "outputs": []
    },
    {
      "cell_type": "markdown",
      "source": [
        "### **Exercise: Using functions in pandas(2)**\n",
        "\n",
        "* Define the function `count_entries()`, which has two parameters. The first parameter is `df` for the DataFrame and the second is `col_name` for the column name.\n",
        "\n",
        "* Complete the bodies of the `if-else` statements in the `for` loop:\n",
        "\n",
        "  - if the key is in the dictionary `langs_count`, add 1 to its current value, - else add the key to `langs_count` and set its value to 1. Use the loop variable `entry` in your code.\n",
        "\n",
        "- Return the `langs_count` dictionary from inside the `count_entries()` function.\n",
        "\n",
        "- Call the `count_entries()` function by passing to it `df` and the name of the column, `'lang'`. Assign the result of the call to the variable `result`."
      ],
      "metadata": {
        "id": "q1hlau7Kj1Fr"
      }
    },
    {
      "cell_type": "code",
      "metadata": {
        "id": "LDCrL2yA6q92"
      },
      "source": [
        "# Define count_entries()\n",
        "def ____(____, ____):\n",
        "    \"\"\"Return a dictionary with counts of\n",
        "    occurrences as value for each key.\"\"\"\n",
        "\n",
        "    # Initialize an empty dictionary: langs_count\n",
        "    langs_count = {}\n",
        "\n",
        "    # Extract column from DataFrame: col\n",
        "    col = df[col_name]\n",
        "\n",
        "    # Iterate over lang column in DataFrame\n",
        "    for entry in col:\n",
        "\n",
        "        # If the language is in langs_count, add 1\n",
        "        if entry in langs_count.keys():\n",
        "            ____\n",
        "        # Else add the language to langs_count, set the value to 1\n",
        "        else:\n",
        "            ____\n",
        "\n",
        "    # Return the langs_count dictionary\n",
        "\n",
        "\n",
        "# Call count_entries(): result\n",
        "\n",
        "\n",
        "# Print the result\n",
        "print(result)"
      ],
      "execution_count": null,
      "outputs": []
    },
    {
      "cell_type": "markdown",
      "source": [
        "# **Scope**"
      ],
      "metadata": {
        "id": "bF0OdXzp9w-W"
      }
    },
    {
      "cell_type": "code",
      "source": [
        "new_val = 10\n",
        "\n",
        "def square(value):\n",
        "    new_value2 = new_val ** 2\n",
        "    return new_value2\n",
        "\n",
        "print(square(3))\n",
        "print(new_val)"
      ],
      "metadata": {
        "id": "RQK5xoETzWCE"
      },
      "execution_count": null,
      "outputs": []
    },
    {
      "cell_type": "markdown",
      "source": [
        "To change the global variable, need to use **`global`** statement."
      ],
      "metadata": {
        "id": "oa_2KUUfzs_a"
      }
    },
    {
      "cell_type": "code",
      "source": [
        "new_val = 10\n",
        "\n",
        "def square(value):\n",
        "    global new_val\n",
        "    new_val = new_val ** 2\n",
        "    return new_val\n",
        "\n",
        "print(square(3))\n",
        "print(new_val)\n",
        "\n"
      ],
      "metadata": {
        "id": "w6GEfn0yzk5S"
      },
      "execution_count": null,
      "outputs": []
    },
    {
      "cell_type": "markdown",
      "source": [
        "### **Exercise: understanding scope**\n",
        "\n",
        "Try figuring this out before executing the code.\n",
        "\n",
        "- What are the values printed out when you call `func1()` and `func2()`?\n",
        "- What is the value of `num` in the global scope after calling `func1()` and `func2()`?"
      ],
      "metadata": {
        "id": "pU4uRrFCGwhw"
      }
    },
    {
      "cell_type": "code",
      "source": [
        "num = 5\n",
        "\n",
        "def func1():\n",
        "    num = 3\n",
        "    print(num)\n",
        "\n",
        "def func2():\n",
        "    global num\n",
        "    double_num = num * 2\n",
        "    num = 6\n",
        "    print(double_num)"
      ],
      "metadata": {
        "id": "RzVjNqZyHUnr"
      },
      "execution_count": null,
      "outputs": []
    },
    {
      "cell_type": "code",
      "source": [
        "import builtins\n",
        "dir(builtins)"
      ],
      "metadata": {
        "id": "kxsMkrrRbm9q"
      },
      "execution_count": null,
      "outputs": []
    },
    {
      "cell_type": "markdown",
      "source": [
        "# **Default and Flexible Arguments**\n",
        "\n"
      ],
      "metadata": {
        "id": "7Um6CiZ8yA7E"
      }
    },
    {
      "cell_type": "markdown",
      "source": [
        "## **Adding default arguments**"
      ],
      "metadata": {
        "id": "cLwFec-rIvUx"
      }
    },
    {
      "cell_type": "code",
      "source": [
        "def power(number, pow=1):\n",
        "    \"\"\"Raise number to the power of pow.\"\"\"\n",
        "    new_value = number ** pow\n",
        "    return new_value\n",
        "\n",
        "print(power(9, 2))\n",
        "print(power(9))"
      ],
      "metadata": {
        "id": "g9A3upYGyhAk"
      },
      "execution_count": null,
      "outputs": []
    },
    {
      "cell_type": "markdown",
      "source": [
        "## **Flexible Arguments: `*args`**\n",
        "\n",
        "Use when we are not sure how many arguments a user will want to pass"
      ],
      "metadata": {
        "id": "_fzl87JnyqpS"
      }
    },
    {
      "cell_type": "code",
      "source": [
        "def add_all(*args):\n",
        "    \"\"\"Sum all values in *args together.\"\"\"\n",
        "\n",
        "    # Initialize sum\n",
        "    sum_all = 0\n",
        "\n",
        "    # Accumulate the sum\n",
        "    for num in args:\n",
        "        sum_all += num\n",
        "\n",
        "    return sum_all\n",
        "\n",
        "print(add_all(2))\n",
        "print(add_all(1, 2))\n",
        "print(add_all(1, 2, 3, 4))"
      ],
      "metadata": {
        "id": "IebldIn2zCfp"
      },
      "execution_count": null,
      "outputs": []
    },
    {
      "cell_type": "markdown",
      "source": [
        "## **Flexible keyword arguments**: `**kwargs`\n",
        "\n",
        "- `**kwargs` turns the keyword pairs into a dictionary in a function."
      ],
      "metadata": {
        "id": "fHOX071Kz2HR"
      }
    },
    {
      "cell_type": "code",
      "source": [
        "def func(**kwargs):\n",
        "    print(kwargs)\n",
        "\n",
        "func(name=\"dumbledore\", job=\"headmaster\")"
      ],
      "metadata": {
        "id": "K8y8H5kZ1YMp"
      },
      "execution_count": null,
      "outputs": []
    },
    {
      "cell_type": "code",
      "source": [
        "def print_all(**kwargs):\n",
        "    \"\"\"Print out key-value pairs in **kwargs.\"\"\"\n",
        "\n",
        "    # Print out the key-value pairs\n",
        "    for key, value in kwargs.items():\n",
        "        print(key + \": \" + value)\n",
        "\n",
        "print_all(name=\"dumbledore\", job=\"headmaster\")"
      ],
      "metadata": {
        "id": "U5LQnPFn0JGQ"
      },
      "execution_count": null,
      "outputs": []
    },
    {
      "cell_type": "markdown",
      "source": [
        "### **Functions with one default argument**\n",
        "\n",
        "Write a function that uses a default argument and then calling the function a couple of times.\n",
        "\n",
        "### **Instructions**\n",
        "\n",
        "- Complete the function header with the function name `shout_echo`. It accepts an argument `word1` and a default argument `echo` with default value `1`, in that order.\n",
        "\n",
        "- Use the `*` operator to concatenate `echo` copies of `word1`. Assign the result to `echo_word`.\n",
        "\n",
        "- Call `shout_echo()` with just the string, `\"Hey\"`. Assign the result to `no_echo`.\n",
        "\n",
        "- Call `shout_echo()` with the string `\"Hey\"` and the value `5` for the default argument, `echo`. Assign the result to `with_echo`."
      ],
      "metadata": {
        "id": "It9t_9td1oF4"
      }
    },
    {
      "cell_type": "code",
      "metadata": {
        "id": "kOJShSkok6Hb"
      },
      "source": [
        "def\n",
        "\n",
        "    # Concatenate echo copies of word1 using *: echo_word\n",
        "    echo_word = ____\n",
        "\n",
        "    # Concatenate '!!!' to echo_word: shout_word\n",
        "    shout_word = echo_word + '!!!'\n",
        "\n",
        "    # Return shout_word\n",
        "    return shout_word\n",
        "\n",
        "# Call shout_echo() with \"Hey\": no_echo\n",
        "no_echo = ____\n",
        "\n",
        "# Call shout_echo() with \"Hey\" and echo=5: with_echo\n",
        "with_echo = ____\n",
        "\n",
        "# Print no_echo and with_echo\n",
        "print(no_echo)\n",
        "print(with_echo)"
      ],
      "execution_count": null,
      "outputs": []
    },
    {
      "cell_type": "markdown",
      "source": [
        "### **Instructions**\n",
        "\n",
        "- Complete the function header with the function name `shout_echo`. It accepts an argument `word1`, a default argument `echo` with default value `1` and a default argument `intense` with default value `False`, in that order.\n",
        "\n",
        "- In the body of the **`if`** statement, make the string object `echo_word` upper case by applying the method **`.upper()`** on it.\n",
        "\n",
        "- Call `shout_echo()` with the string, `\"Hey\"`, the value `5` for `echo` and the value `True` for `intense`. Assign the result to `with_big_echo`.\n",
        "\n",
        "- Call `shout_echo()` with the string `\"Hey\"` and the value `True` for `intense`. Assign the result to `big_no_echo`."
      ],
      "metadata": {
        "id": "mE5uHLUo2z-M"
      }
    },
    {
      "cell_type": "code",
      "source": [
        "# Define shout_echo\n",
        "def ____(____, ____, ____):\n",
        "    \"\"\"Concatenate echo copies of word1 and three\n",
        "    exclamation marks at the end of the string.\"\"\"\n",
        "\n",
        "    # Concatenate echo copies of word1 using *: echo_word\n",
        "    echo_word = word1 * echo\n",
        "\n",
        "    # Make echo_word uppercase if intense is True\n",
        "    if intense is True:\n",
        "        # Make uppercase and concatenate '!!!': echo_word_new\n",
        "        echo_word_new = ____ + '!!!'\n",
        "    else:\n",
        "        # Concatenate '!!!' to echo_word: echo_word_new\n",
        "        echo_word_new = echo_word + '!!!'\n",
        "\n",
        "    # Return echo_word_new\n",
        "    return echo_word_new\n",
        "\n",
        "# Call shout_echo() with \"Hey\", echo=5 and intense=True: with_big_echo\n",
        "with_big_echo = ____\n",
        "\n",
        "# Call shout_echo() with \"Hey\" and intense=True: big_no_echo\n",
        "big_no_echo = ____\n",
        "\n",
        "# Print values\n",
        "print(with_big_echo)\n",
        "print(big_no_echo)"
      ],
      "metadata": {
        "id": "cSb4WMHg20ae"
      },
      "execution_count": null,
      "outputs": []
    },
    {
      "cell_type": "markdown",
      "source": [
        "### **Functions with variable-length arguments (*args)**\n",
        "\n",
        "\n",
        "- Complete the function header with the function name `gibberish`. It accepts a single flexible argument `*args`.\n",
        "\n",
        "- Initialize a variable `hodgepodge` to an empty string.\n",
        "\n",
        "- Return the variable `hodgepodge` at the end of the function body.\n",
        "\n",
        "- Call `gibberish()` with the single string of your choice. Assign the result to `one_word`.\n",
        "\n",
        "- Call `gibberish()` with multiple arguments and to print the value."
      ],
      "metadata": {
        "id": "bFWMzeN04S7c"
      }
    },
    {
      "cell_type": "code",
      "metadata": {
        "id": "i37Oh53qxbVA"
      },
      "source": [
        "# Define gibberish\n",
        "def ____(____):\n",
        "    \"\"\"Concatenate strings in *args together.\"\"\"\n",
        "\n",
        "    # Initialize an empty string: hodgepodge\n",
        "\n",
        "\n",
        "    # Concatenate the strings in args\n",
        "    for word in args:\n",
        "        hodgepodge += word\n",
        "\n",
        "    # Return hodgepodge\n",
        "    ____\n",
        "\n",
        "# Call gibberish() with one string of your choice and assign it to one_word\n",
        "one_word = ____\n",
        "\n",
        "# Call gibberish() with any number of strings: many_words\n",
        "many_words = gibberish()\n",
        "\n",
        "# Print one_word and many_words\n",
        "print(one_word)\n",
        "print(many_words)"
      ],
      "execution_count": null,
      "outputs": []
    },
    {
      "cell_type": "markdown",
      "source": [
        "# **Lambda Functions**\n",
        "\n",
        "- **`lambda`**\n",
        "- arguments\n",
        "- **`:`**\n",
        "- value to return\n"
      ],
      "metadata": {
        "id": "G-XSqZ3IRn-Z"
      }
    },
    {
      "cell_type": "code",
      "source": [
        "raise_to_power = lambda x, y: x ** y\n",
        "\n",
        "raise_to_power(2, 3)"
      ],
      "metadata": {
        "id": "CcMr0uaFSFfG"
      },
      "execution_count": null,
      "outputs": []
    },
    {
      "cell_type": "code",
      "source": [
        "upper = lambda s: s.upper()\n",
        "upper('merde')"
      ],
      "metadata": {
        "id": "muR_agnCT2my"
      },
      "execution_count": null,
      "outputs": []
    },
    {
      "cell_type": "markdown",
      "source": [
        "## **Writing lambda functions along with map()**\n",
        "\n",
        "- Functions `map` takes 2 arguments: `map(func, sequence)`\n",
        "- Apply `func` to all elements in `sequence`"
      ],
      "metadata": {
        "id": "YOYcYrZ_SZBY"
      }
    },
    {
      "cell_type": "code",
      "source": [
        "nums = [1, 2, 3, 4, 5]\n",
        "square_all = map(lambda num: num ** 2, nums)\n",
        "\n",
        "print(square_all, \"\\n\")\n",
        "print(list(square_all))"
      ],
      "metadata": {
        "id": "06HUHO-cTBJn"
      },
      "execution_count": null,
      "outputs": []
    },
    {
      "cell_type": "markdown",
      "source": [
        "### **Writing lambda functions**\n",
        "\n",
        "Practice writing a simple lambda function and calling this function. Recall what you know about lambda functions and answer the following questions:\n",
        "\n",
        "- How would you write a lambda function `add_bangs` that adds three exclamation points `'!!!'` to the end of a string `a`?\n",
        "\n",
        "- How would you call `add_bangs` with the argument `'hello'`?"
      ],
      "metadata": {
        "id": "bRu2vzJKTYyB"
      }
    },
    {
      "cell_type": "code",
      "source": [
        "add_bangs ="
      ],
      "metadata": {
        "id": "j1Ljd8JRTtFx"
      },
      "execution_count": null,
      "outputs": []
    },
    {
      "cell_type": "markdown",
      "source": [
        "### **Writing a lambda function you already know**\n",
        "\n",
        "\n",
        "```\n",
        "def echo_word(word1, echo):\n",
        "    \"\"\"Concatenate echo copies of word1.\"\"\"\n",
        "    words = word1 * echo\n",
        "    return words\n",
        "```\n",
        "\n",
        "\n",
        "\n",
        "- Define the lambda function `echo_word` using the variables `word1` and `echo`. Replicate what the original function definition for `echo_word()` does above.\n",
        "\n",
        "- Call `echo_word()` with the string argument `'hey'` and the value `5`, in that order. Assign the call to `result`."
      ],
      "metadata": {
        "id": "gDk_EejMUJy6"
      }
    },
    {
      "cell_type": "code",
      "metadata": {
        "id": "KTe80nVqp5YC"
      },
      "source": [
        "# Define echo_word as a lambda function: echo_word\n",
        "echo_word =\n",
        "\n",
        "# Call echo_word: result\n",
        "result =\n",
        "\n",
        "# Print result\n",
        "print(result)"
      ],
      "execution_count": null,
      "outputs": []
    },
    {
      "cell_type": "markdown",
      "source": [
        "### **Important exercise: Map() and lambda functions**\n",
        "\n",
        "```\n",
        "nums = [2, 4, 6, 8, 10]\n",
        "\n",
        "result = map(lambda a: a ** 2, nums)\n",
        "```\n",
        "\n",
        "- In the **`map()`** call, pass a lambda function that capitalize the string  to a string `item`; also pass the list of strings, `capitals`. Assign the resulting map object to `Capital`.\n",
        "\n",
        "- Convert `Capital` to a list and print out the list."
      ],
      "metadata": {
        "id": "wvLU7JJdVH1O"
      }
    },
    {
      "cell_type": "code",
      "metadata": {
        "id": "D86PLbbtrw3Y"
      },
      "source": [
        "### Map and lambda\n",
        "\n",
        "# Create a list of strings: spells\n",
        "capitals = [\"bangkok\", \"tokyo\", \"london\", \"canberra\"]\n",
        "\n",
        "# Use map() to apply a lambda function over spells: shout_spells\n",
        "Capital = map(lambda item: item.capitalize(), capitals)\n",
        "\n",
        "# Convert shout_spells to a list: shout_spells_list\n",
        "list(Capital)\n"
      ],
      "execution_count": null,
      "outputs": []
    },
    {
      "cell_type": "markdown",
      "source": [
        "### **Important exercise: Filter() and lambda functions**\n",
        "\n",
        "The function **`filter()`** offers a way to filter out elements from a list <u>that don't satisfy certain criteria</u>.\n",
        "\n",
        "Your goal in this exercise is to use **`filter()`** to create, from an input list of strings, a new list that contains only strings that have more than 6 characters.\n",
        "\n",
        "- In the **`filter()`** call, pass a lambda function and the list of strings, `fellowship`. The lambda function should check if the number of characters in a string member is greater than `6`; use the **`len()`** function to do this.\n",
        "\n",
        "- Assign the resulting filter object to `result`.\n",
        "\n",
        "- Convert `result` to a list and print out the list."
      ],
      "metadata": {
        "id": "2-7CXUm1Wc1n"
      }
    },
    {
      "cell_type": "code",
      "metadata": {
        "id": "xKKs-BHI_SMz"
      },
      "source": [
        "# Create a list of strings: fellowship\n",
        "fellowship = ['frodo', 'samwise', 'merry', 'pippin', 'aragorn', 'boromir', 'legolas', 'gimli', 'gandalf']\n",
        "\n",
        "# Use filter() to apply a lambda function over fellowship: result\n",
        "____ = filter(____, ____)\n",
        "\n",
        "# Convert result to a list: result_list\n",
        "____\n",
        "\n",
        "# Print result_list\n",
        "print(result_list)"
      ],
      "execution_count": null,
      "outputs": []
    },
    {
      "cell_type": "markdown",
      "source": [
        "### **Reduce() and lambda functions**\n",
        "\n",
        "The **`reduce()`** function is useful for performing some computation on a list and, unlike **`map()`** and **`filter()`**, returns a single value as a result. To use **`reduce()`**, you must import it from the **`functools`** module.\n",
        "\n",
        "Remember `gibberish()` from a few exercises back?\n",
        "\n",
        "```\n",
        "# Define gibberish\n",
        "def gibberish(*args):\n",
        "    \"\"\"Concatenate strings in *args together.\"\"\"\n",
        "    hodgepodge = ''\n",
        "    for word in args:\n",
        "        hodgepodge += word\n",
        "    return hodgepodge\n",
        "```\n",
        "\n",
        "`gibberish()` simply takes a list of strings as an argument and returns, as a single-value result, the concatenation of all of these strings. In this exercise, you will replicate this functionality by using **`reduce()`** and a lambda function that concatenates strings together.\n",
        "\n",
        "\n",
        "- Import the **`reduce`** function from the **`functools`** module.\n",
        "\n",
        "- In the **`reduce()`** call, pass a lambda function that takes two string arguments `item1` and `item2` and concatenates them; also pass the list of strings, `stark`.\n",
        "\n",
        "- Assign the result to `result`. The first argument to **`reduce()`** should be the lambda function and the second argument is the list `stark`."
      ],
      "metadata": {
        "id": "3JG6rMxUX_nt"
      }
    },
    {
      "cell_type": "code",
      "metadata": {
        "id": "dz0wUx-3B1Py"
      },
      "source": [
        "# Import reduce from functools\n",
        "\n",
        "\n",
        "# Create a list of strings: stark\n",
        "stark = ['robb', 'sansa', 'arya', 'brandon', 'rickon']\n",
        "\n",
        "# Use reduce() to apply a lambda function over stark: result\n",
        "result = reduce(____, ____)\n",
        "\n",
        "# Print the result\n",
        "print(result)"
      ],
      "execution_count": null,
      "outputs": []
    },
    {
      "cell_type": "markdown",
      "source": [
        "This should be minimally enough to go through data problems."
      ],
      "metadata": {
        "id": "Oa_YRiR1bw6x"
      }
    }
  ]
}