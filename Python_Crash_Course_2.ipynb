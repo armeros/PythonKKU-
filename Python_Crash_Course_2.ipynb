{
  "nbformat": 4,
  "nbformat_minor": 0,
  "metadata": {
    "colab": {
      "provenance": []
    },
    "kernelspec": {
      "name": "python3",
      "display_name": "Python 3"
    },
    "language_info": {
      "name": "python"
    }
  },
  "cells": [
    {
      "cell_type": "markdown",
      "source": [
        "# **Matplotlib**\n",
        "\n"
      ],
      "metadata": {
        "id": "B0Z631W6ObdO"
      }
    },
    {
      "cell_type": "code",
      "source": [
        "import matplotlib.pyplot as plt, numpy as np\n",
        "\n",
        "integers = [0, 1, 2, 3, 4, 5, 6, 7, 8, 9, 10]\n",
        "squares = np.array(integers)**2\n",
        "\n",
        "plt.plot(integers, squares)\n",
        "plt.show()"
      ],
      "metadata": {
        "id": "LxKukvwdOii4"
      },
      "execution_count": null,
      "outputs": []
    },
    {
      "cell_type": "markdown",
      "source": [
        "## **Scatter Plot**\n",
        "\n"
      ],
      "metadata": {
        "id": "oR9Xo4ICOnc_"
      }
    },
    {
      "cell_type": "code",
      "source": [
        "import matplotlib.pyplot as plt, numpy as np\n",
        "\n",
        "integers = [0, 1, 2, 3, 4, 5, 6, 7, 8, 9, 10]\n",
        "squares = np.array(integers)**2\n",
        "\n",
        "plt.????(integers, squares) # guess this out\n",
        "plt.show()"
      ],
      "metadata": {
        "id": "JLdjS2XzPjIB"
      },
      "execution_count": null,
      "outputs": []
    },
    {
      "cell_type": "markdown",
      "source": [
        "### **Exercise: Line plot (1)**\n",
        "\n",
        "**<u>line plot</u>** is used mostly when\n",
        "\n",
        "* You plot mathematical functions\n",
        "* You plot data on y-axis in comparison with time on x-axis.\n",
        "\n",
        "```\n",
        "import matplotlib.pyplot as plt\n",
        "plt.plot(x,y)\n",
        "plt.show()\n",
        "```\n",
        "### **Instructions**\n",
        "\n",
        "- `print()` the last item from both the `year` and the `pop` list.\n",
        "\n",
        "- Use `plt.plot()` to build a line plot. `year` should be mapped on the horizontal axis, `pop` on the vertical axis.\n"
      ],
      "metadata": {
        "id": "rd54H5T296vq"
      }
    },
    {
      "cell_type": "code",
      "execution_count": null,
      "metadata": {
        "id": "Lhx4YXaE88DG"
      },
      "outputs": [],
      "source": [
        "# Don't pay any interest to this part for now.\n",
        "\n",
        "import numpy as np\n",
        "import pandas as pd\n",
        "import matplotlib.pyplot as plt\n",
        "\n",
        "gapminder = pd.read_csv(\"gapminder.csv\").drop(columns='Unnamed: 0')\n",
        "year, pop = list(np.arange(1950, 2101)), list(np.loadtxt('pop.txt', dtype='float'))\n",
        "gdp_cap, life_exp, life_exp1950 = list(gapminder['gdp_cap']), list(gapminder['life_exp']), list(np.loadtxt('life.txt', dtype='float'))"
      ]
    },
    {
      "cell_type": "code",
      "source": [
        "# Print the last item from year and pop\n",
        "\n",
        "\n",
        "# Make a line plot: year on the x-axis, pop on the y-axis\n",
        "\n"
      ],
      "metadata": {
        "id": "6SakXkHXEr2P"
      },
      "execution_count": null,
      "outputs": []
    },
    {
      "cell_type": "markdown",
      "source": [
        "### **Exercise: Line Plot (2): Interpretation**\n",
        "\n",
        "In approximately what year will there be more than ten billion human beings on this planet?"
      ],
      "metadata": {
        "id": "Ch7gKsJ-J8kn"
      }
    },
    {
      "cell_type": "code",
      "source": [
        "plt.plot(year, pop)\n",
        "plt.plot([2060, 2060], [0, 10], linestyle='--', color='r', drawstyle='steps-post')\n",
        "plt.plot([1950, 2060], [10, 10], linestyle='--', color='r', drawstyle='steps-post')\n",
        "plt.plot(2060, 10, marker='o', markersize=8, color=\"red\")\n",
        "plt.show()"
      ],
      "metadata": {
        "id": "GYx4WY4-Ia__"
      },
      "execution_count": null,
      "outputs": []
    },
    {
      "cell_type": "markdown",
      "source": [
        "### Exercise **Line plot(3)**\n",
        "\n",
        "- Print the last item from both the list `gdp_cap`, and the list `life_exp`; it is information about Zimbabwe.\n",
        "\n",
        "- Build a line chart, with `gdp_cap` on the x-axis, and `life_exp` on the y-axis. Does it make sense to plot this data on a line plot?"
      ],
      "metadata": {
        "id": "FJ-WVlHsLYx3"
      }
    },
    {
      "cell_type": "code",
      "source": [
        "# Print the last item of gdp_cap and life_exp\n",
        "\n",
        "\n",
        "# Make a line plot, gdp_cap on the x-axis, life_exp on the y-axis\n"
      ],
      "metadata": {
        "id": "gyaQGy_tLAyK"
      },
      "execution_count": null,
      "outputs": []
    },
    {
      "cell_type": "markdown",
      "source": [
        "This doesn't look right.\n",
        "\n",
        "### Exercise **Scatter Plot (1)**\n",
        "\n",
        "When plotting two numerical variables and one of them is not time --> Use scatter plot.\n",
        "\n",
        "- A correlation will become clear when you display the GDP per capita on a logarithmic scale. Add the line **`plt.xscale('log')`**.\n"
      ],
      "metadata": {
        "id": "bRlv12jVMRA8"
      }
    },
    {
      "cell_type": "code",
      "source": [
        "# Change the line plot below to a scatter plot\n",
        "# You can use an argument s=10 to change dot size\n",
        "# Put the x-axis on a logarithmic scale\n",
        "plt.xscale('log')\n",
        "\n",
        "# Show plot\n"
      ],
      "metadata": {
        "id": "ZHxJA4z-L9bv"
      },
      "execution_count": null,
      "outputs": []
    },
    {
      "cell_type": "markdown",
      "source": [
        "### **Scatter plot (2)**\n",
        "\n",
        "In the above figure, you saw that the higher GDP usually corresponds to a higher life expectancy. In other words, there is a <u>positive correlation</u>.\n",
        "\n",
        "Do you think there's a relationship between population and life expectancy of a country? The list `life_exp` from the previous exercise is already available. In addition, now also `pop` is available, listing the corresponding populations for the countries in 2007. The populations are in millions of people.\n",
        "\n",
        "\n",
        "* Build a scatter plot, where `pop` is mapped on the horizontal axis, and `life_exp` is mapped on the vertical axis.\n"
      ],
      "metadata": {
        "id": "cZQha7siN57_"
      }
    },
    {
      "cell_type": "code",
      "source": [
        "import matplotlib.pyplot as plt\n",
        "\n",
        "pop = list(gapminder['population'])\n",
        "\n",
        "# Build Scatter plot\n",
        "\n",
        "\n",
        "plt.show()"
      ],
      "metadata": {
        "id": "DUgljWwANd8N"
      },
      "execution_count": null,
      "outputs": []
    },
    {
      "cell_type": "markdown",
      "source": [
        " There's no clear relationship between population and life expectancy.\n",
        "\n",
        " # **Histogram**\n",
        "\n",
        " Use to see the distribution of a single variable.\n",
        "\n",
        "```\n",
        "hist(x, bins=None, range=None, density=False, weights=None,\n",
        "cumulative=False, bottom=None, histtype='bar', align='mid',\n",
        "orientation='vertical', rwidth=None, log=False, color=None,\n",
        "label=None, stacked=False, *, data=None, **kwargs)\n",
        "```\n",
        "\n",
        "* `x` is data (univariate) for histogram\n",
        "* `bins` the highest number of bars (default=10)\n",
        "* You don't need to know the rest\n",
        "\n",
        "\n"
      ],
      "metadata": {
        "id": "tGLV6MY_Owdq"
      }
    },
    {
      "cell_type": "markdown",
      "source": [
        "### Exercise *Build a histogram*\n",
        "\n",
        "\n",
        "To see how life expectancy in different countries is distributed, let's create a histogram of `life_exp`.\n",
        "\n",
        "* Use **`plt.hist()`** to create a histogram of the values in `life_exp`. Do not specify the number of `bins`; Python will set the number of bins to `10` by default for you.\n",
        "\n",
        "* Build a histogram of `life_exp`, with 5 bins. Can you tell which bin contains the most observations?\n",
        "* Build another histogram of `life_exp`, this time with 20 bins. Is this better?"
      ],
      "metadata": {
        "id": "EUEc54ODVbFC"
      }
    },
    {
      "cell_type": "code",
      "source": [
        "plt.clf() # Clean up plot"
      ],
      "metadata": {
        "id": "bOAow7YpOmp1"
      },
      "execution_count": null,
      "outputs": []
    },
    {
      "cell_type": "markdown",
      "source": [
        "* Build a histogram of `life_exp`, with 5 bins. Can you tell which bin contains the most observations?\n",
        "* Build another histogram of `life_exp`, this time with 20 bins. Is this better?"
      ],
      "metadata": {
        "id": "cT-nUYnIOV8C"
      }
    },
    {
      "cell_type": "markdown",
      "source": [
        "### *Compare histogram*\n",
        "\n",
        "`life_exp` contains life expectancy data for different countries in 2007. You also have access to a second list now, `life_exp1950`, containing similar data for 1950. Can you make a histogram for both datasets?\n",
        "\n",
        "* Build a histogram of `life_exp` with 15 bins.\n",
        "* Build a histogram of `life_exp1950`, also with 15 bins. Is there a big difference with the histogram for the 2007 data?"
      ],
      "metadata": {
        "id": "Pr2Z_ZDYPfxD"
      }
    },
    {
      "cell_type": "code",
      "source": [
        "# Histogram of life_exp, 15 bins\n",
        "\n",
        "\n",
        "# Show and clear plot\n",
        "plt.show()\n",
        "plt.clf()\n",
        "\n",
        "# Histogram of life_exp1950, 15 bins\n",
        "\n",
        "\n",
        "# Show and clear plot again\n",
        "plt.show()\n",
        "plt.clf()"
      ],
      "metadata": {
        "id": "UJRheEbiOmoI"
      },
      "execution_count": null,
      "outputs": []
    },
    {
      "cell_type": "markdown",
      "source": [
        "The code below shows how to plot histogram in a better comparison.  It looks\n",
        "fancy back in the day but with AI you don't need to know how to do this exactly anymore."
      ],
      "metadata": {
        "id": "s8cr3pqPXFtE"
      }
    },
    {
      "cell_type": "code",
      "source": [
        "import matplotlib.pyplot as plt\n",
        "import numpy as np\n",
        "\n",
        "bins = np.arange(30, 90, 5)\n",
        "\n",
        "# Plot the first histogram\n",
        "plt.barh(bins[:-1], -np.histogram(life_exp, bins=bins)[0], height=4, alpha=0.5, label='2007')\n",
        "\n",
        "# Plot the second histogram\n",
        "plt.barh(bins[:-1], np.histogram(life_exp1950, bins=bins)[0], height=4, alpha=0.5, label='1950')\n",
        "\n",
        "# Add labels and title\n",
        "plt.xlabel('Frequency')\n",
        "plt.ylabel('Age')\n",
        "plt.title('Comparison of life expectancy')\n",
        "plt.legend()\n",
        "\n",
        "# Invert y-axis to have bars pointing in the correct direction\n",
        "plt.gca().invert_yaxis()\n",
        "plt.gca().set_xticklabels([int(np.abs(x)) for x in plt.gca().get_xticks()])\n",
        "\n",
        "# Show the plot\n",
        "plt.show()"
      ],
      "metadata": {
        "id": "kZChQvstQAE8"
      },
      "execution_count": null,
      "outputs": []
    },
    {
      "cell_type": "markdown",
      "source": [
        "# **Customization**"
      ],
      "metadata": {
        "id": "AQ2vKuKiadLK"
      }
    },
    {
      "cell_type": "code",
      "source": [
        "# Add more data\n",
        "year = [1800, 1850, 1900] + year\n",
        "pop = [1.0, 1.262, 1.650] + pop\n",
        "\n",
        "plt.plot(year, pop)\n",
        "plt.xlabel('Year')\n",
        "plt.ylabel('Population')\n",
        "plt.title('World Population Projections')\n",
        "plt.yticks([0, 2, 4, 6, 8, 10],['0','2B','4B','6B','8B','10B'])\n",
        "plt.show()"
      ],
      "metadata": {
        "id": "7WRlM2XVaivk"
      },
      "execution_count": null,
      "outputs": []
    },
    {
      "cell_type": "markdown",
      "source": [
        "### *Add labels*"
      ],
      "metadata": {
        "id": "Haa2OLamckVk"
      }
    },
    {
      "cell_type": "code",
      "source": [
        "# Basic scatter plot, log scale\n",
        "plt.scatter(gdp_cap, life_exp, s=10)\n",
        "plt.xscale('log')\n",
        "\n",
        "# Strings\n",
        "xlab = 'GDP per Capita [in USD]'\n",
        "ylab = 'Life Expectancy [in years]'\n",
        "title = 'World Development in 2007'\n",
        "\n",
        "# Add axis labels\n",
        "plt.xlabel(xlab)\n",
        "plt.ylabel(ylab)\n",
        "plt.title(title)\n",
        "plt.show()\n"
      ],
      "metadata": {
        "id": "1gLKo2Sta3pF"
      },
      "execution_count": null,
      "outputs": []
    },
    {
      "cell_type": "markdown",
      "source": [
        "### *Ticks*"
      ],
      "metadata": {
        "id": "bXSUjTcjctoi"
      }
    },
    {
      "cell_type": "code",
      "source": [
        "# Scatter plot\n",
        "plt.scatter(gdp_cap, life_exp, s=10)\n",
        "\n",
        "# Previous customizations\n",
        "plt.xscale('log')\n",
        "plt.xlabel('GDP per Capita [in USD]')\n",
        "plt.ylabel('Life Expectancy [in years]')\n",
        "plt.title('World Development in 2007')\n",
        "\n",
        "# Definition of tick_val and tick_lab\n",
        "tick_val = [1000, 10000, 100000]\n",
        "tick_lab = ['1k', '10k', '100k']\n",
        "\n",
        "# Adapt the ticks on the x-axis\n",
        "plt.xticks(tick_val, tick_lab)\n",
        "plt.show()\n"
      ],
      "metadata": {
        "id": "B7vmehLpbX-F"
      },
      "execution_count": null,
      "outputs": []
    },
    {
      "cell_type": "markdown",
      "source": [
        "### *Sizes*\n",
        "\n",
        "* Use **`np.array()`** to create a numpy array from the list `pop`. Call this NumPy array `np_pop`.\n",
        "* Double the values in `np_pop` setting the value of `np_pop` equal to `np_pop * 2`. Because `np_pop` is a NumPy array, each array element will be doubled.\n",
        "* Change the **`s`** argument inside **`plt.scatter()`** to be `np_pop` instead of `pop`"
      ],
      "metadata": {
        "id": "vr2uaKqjdKPd"
      }
    },
    {
      "cell_type": "code",
      "source": [
        "# Different pop from the first cell.\n",
        "pop = list(np.array(gapminder['population'])/10e5)\n",
        "\n",
        "np_pop = np.array(pop)\n",
        "np_pop *= 2\n",
        "\n",
        "# Update: set s argument to np_pop\n",
        "plt.scatter(gdp_cap, life_exp, s=np_pop)\n",
        "\n",
        "# Previous customizations\n",
        "plt.xscale('log')\n",
        "plt.xlabel('GDP per Capita [in USD]')\n",
        "plt.ylabel('Life Expectancy [in years]')\n",
        "plt.title('World Development in 2007')\n",
        "plt.xticks([1000, 10000, 100000],['1k', '10k', '100k'])\n",
        "\n",
        "# Display the plot\n",
        "plt.show()"
      ],
      "metadata": {
        "id": "R-JxhKoqc-70"
      },
      "execution_count": null,
      "outputs": []
    },
    {
      "cell_type": "markdown",
      "source": [
        "### *Colors*\n",
        "\n",
        "The Gapminder data contains a list `continent` with the continent each country belongs to. A dictionary is constructed that maps continents onto colors:\n",
        "\n",
        "```\n",
        "dict = {\n",
        "    'Asia':'red',\n",
        "    'Europe':'green',\n",
        "    'Africa':'blue',\n",
        "    'Americas':'yellow',\n",
        "    'Oceania':'black'\n",
        "}\n",
        "```\n",
        "\n",
        "* Add `c = col` to the arguments of the **`plt.scatter()`** function.\n",
        "* Change the opacity of the bubbles by setting the **`alpha`** argument to `0.8` inside `plt.scatter()`. Alpha can be set from zero to one, where zero is totally transparent, and one is not at all transparent."
      ],
      "metadata": {
        "id": "tfhg68aDlXvN"
      }
    },
    {
      "cell_type": "code",
      "source": [
        "color_dict = {'Asia':'red',\n",
        "              'Europe':'green',\n",
        "              'Africa':'blue',\n",
        "              'Americas':'yellow',\n",
        "              'Oceania':'black'}\n",
        "\n",
        "gapminder['color'] = gapminder['cont'].map(color_dict)\n",
        "col = list(gapminder['color'])\n",
        "\n",
        "# Specify c and alpha inside plt.scatter()\n",
        "plt.scatter ????????\n",
        "\n",
        "# Previous customizations\n",
        "plt.xscale('log')\n",
        "plt.xlabel('GDP per Capita [in USD]')\n",
        "plt.ylabel('Life Expectancy [in years]')\n",
        "plt.title('World Development in 2007')\n",
        "plt.xticks([1000,10000,100000], ['1k','10k','100k'])\n",
        "\n",
        "# Additional customizations\n",
        "plt.text(1550, 71, 'India')\n",
        "plt.text(5700, 80, 'China')\n",
        "\n",
        "# Create legend\n",
        "legend_handles = []\n",
        "for continent, color in color_dict.items():\n",
        "    handle = plt.Line2D([], [], marker='o', color='w', markerfacecolor=color, label=continent)\n",
        "    legend_handles.append(handle)\n",
        "\n",
        "plt.legend(handles=legend_handles, title='Continent')\n",
        "plt.grid(True)\n",
        "\n",
        "# Show the plot\n",
        "plt.show()"
      ],
      "metadata": {
        "id": "tuA5OEz0kv2N"
      },
      "execution_count": null,
      "outputs": []
    },
    {
      "cell_type": "markdown",
      "source": [
        "In summary,  scatterplot in 2 dimensions can disply information in 4 dimensions. e.g.,  `gdp_cap`, `life_exp`, `number of population`, `continents.`\n",
        "\n",
        "### *Interpretation*\n",
        "\n",
        "If you have a look at your colorful plot, it's clear that people live longer in countries with a higher GDP per capita. No high income countries have really short life expectancy, and no low income countries have very long life expectancy.\n",
        "\n"
      ],
      "metadata": {
        "id": "zNMBzAF_oxP6"
      }
    },
    {
      "cell_type": "markdown",
      "source": [
        "# **Dictionaries**\n"
      ],
      "metadata": {
        "id": "OMFRjlI5xKZe"
      }
    },
    {
      "cell_type": "code",
      "source": [
        "Grades = ['A', 'B', 'C']\n",
        "Students = ['Ann', 'Boy', 'Cat']\n",
        "\n",
        "print(Students.index('Boy'))\n",
        "Grades[Students.index('Boy')] # Inconvenient"
      ],
      "metadata": {
        "id": "Xr01qQdsaf28"
      },
      "execution_count": null,
      "outputs": []
    },
    {
      "cell_type": "code",
      "source": [
        "Classes = {'Ann': 'A', 'Boy':'B', 'Cat':'C'}\n",
        "Classes['Boy'] # Better"
      ],
      "metadata": {
        "id": "-5H6jlzQbMDv"
      },
      "execution_count": null,
      "outputs": []
    },
    {
      "cell_type": "markdown",
      "source": [
        "### **Exercise: Create a dictionary of your courses and grades**\n",
        "\n",
        "* Look up your courses and grades and type them out as a dictionary of 4 entries.\n",
        "\n",
        "* Use the syntax above to access the grade of a particular course of your choice."
      ],
      "metadata": {
        "id": "7Y90iHSQcORb"
      }
    },
    {
      "cell_type": "code",
      "source": [],
      "metadata": {
        "id": "uJgnO5itdgJ4"
      },
      "execution_count": null,
      "outputs": []
    },
    {
      "cell_type": "markdown",
      "source": [
        "## **Key must be immutable**\n",
        "\n",
        "* What are immutable in Python?\n",
        "* Key must be unique.\n",
        "* Try creating a dictionary with a list as a key.  Your value can be anything.\n",
        "* Try creating a dictionary and change the value of the existing key."
      ],
      "metadata": {
        "id": "PobPRpZSdwCn"
      }
    },
    {
      "cell_type": "code",
      "source": [],
      "metadata": {
        "id": "6tf4oZgrd-X-"
      },
      "execution_count": null,
      "outputs": []
    },
    {
      "cell_type": "markdown",
      "source": [
        "### **Exercise: Dictionary Manipulation (1)**\n",
        "\n",
        "\n",
        "* Add both new subjects and grades to your dictionary of courses and grades.  Be sure to use dictionary syntax.  Do not write the whole thing.\n",
        "\n",
        "* Print out your dictionary."
      ],
      "metadata": {
        "id": "qsO26X8KmytZ"
      }
    },
    {
      "cell_type": "code",
      "source": [],
      "metadata": {
        "id": "aBZ698j1jR9Z"
      },
      "execution_count": null,
      "outputs": []
    },
    {
      "cell_type": "markdown",
      "source": [
        "### **Exercise: Nested dict**\n",
        "\n",
        "* Simmilar to nested listS, so do dictionaries.\n",
        "\n",
        "* It's perfectly possible to chain square brackets to select elements.\n",
        "\n",
        "\n",
        "- Use chained square brackets to select and print out the capital of France.\n",
        "\n",
        "- Create a dictionary, named `data`, with the keys `'capital'` and `'population'`. Set them to `'rome'` and `59.83`, respectively.\n",
        "\n",
        "- Add a new key-value pair to `europe`; the key is `'italy'` and the value is data, the dictionary you just built."
      ],
      "metadata": {
        "id": "TucuwG5kopD9"
      }
    },
    {
      "cell_type": "code",
      "source": [
        "# Dictionary of dictionaries\n",
        "europe = { 'spain': { 'capital':'madrid', 'population':46.77 },\n",
        "           'france': { 'capital':'paris', 'population':66.03 },\n",
        "           'germany': { 'capital':'berlin', 'population':80.62 },\n",
        "           'norway': { 'capital':'oslo', 'population':5.084 } }\n",
        "\n",
        "\n",
        "# Print out the capital of France\n",
        "\n",
        "\n",
        "# Create sub-dictionary data\n",
        "\n",
        "\n",
        "# Add data to europe under key 'italy'\n",
        "\n",
        "\n",
        "# Print europe\n",
        "print(europe)"
      ],
      "metadata": {
        "id": "8rKTzT-uooJG"
      },
      "execution_count": null,
      "outputs": []
    },
    {
      "cell_type": "markdown",
      "source": [
        "# **Intro to Pandas**\n",
        "\n"
      ],
      "metadata": {
        "id": "qMikRcodpLlV"
      }
    },
    {
      "cell_type": "code",
      "source": [
        "import pandas as pd\n",
        "\n",
        "# dict of list: By column\n",
        "data = {\"country\":[\"Brazil\", \"Russia\", \"India\", \"China\", \"South Africa\"],\n",
        "        \"capital\":[\"Brasilia\", \"Moscow\", \"New Delhi\", \"Beijing\", \"Pretoria\"],\n",
        "        \"area\":[8.516, 17.10, 3.286, 9.597, 1.221],\n",
        "        \"population\":[200.4, 143.5, 1252, 1357, 52.98]}\n",
        "\n",
        "pd.DataFrame(data)"
      ],
      "metadata": {
        "id": "DJvCPLuupWK2"
      },
      "execution_count": null,
      "outputs": []
    },
    {
      "cell_type": "code",
      "source": [
        "# list of dicts: by row\n",
        "\n",
        "data = [\n",
        "    {\"country\": \"Brazil\", \"capital\": \"Brasilia\", \"area\": 8.516, \"population\": 200.4},\n",
        "    {\"country\": \"Russia\", \"capital\": \"Moscow\", \"area\": 17.10, \"population\": 143.5},\n",
        "    {\"country\": \"India\", \"capital\": \"New Delhi\", \"area\": 3.286, \"population\": 1252},\n",
        "    {\"country\": \"China\", \"capital\": \"Beijing\", \"area\": 9.597, \"population\": 1357},\n",
        "    {\"country\": \"South Africa\", \"capital\": \"Pretoria\", \"area\": 1.221, \"population\": 52.98}\n",
        "]\n",
        "\n",
        "pd.DataFrame(data)"
      ],
      "metadata": {
        "id": "Gk5_Rq7mrMbo"
      },
      "execution_count": null,
      "outputs": []
    },
    {
      "cell_type": "markdown",
      "source": [
        "### **Exercise: Creating a dataframe**\n",
        "\n",
        "Given data\n",
        "\n",
        "\n",
        "\n",
        "```\n",
        "        Names          uni_id       Grade\n",
        "0      Ann               1234           A\n",
        "1      Boy               1235           B\n",
        "2      Cat               1236           C\n",
        "3      Dan               1237           D\n",
        "4      Fed               1235           F\n",
        "```\n",
        "\n",
        "* Construct using list of dicts\n",
        "* Construct using dict of lists\n",
        "\n"
      ],
      "metadata": {
        "id": "Mvqa5c25s9u_"
      }
    },
    {
      "cell_type": "code",
      "source": [],
      "metadata": {
        "id": "f-tC7QoctQQ7"
      },
      "execution_count": null,
      "outputs": []
    },
    {
      "cell_type": "markdown",
      "source": [
        "# **DataFrame from CSV file**"
      ],
      "metadata": {
        "id": "pb1TvFobLRey"
      }
    },
    {
      "cell_type": "code",
      "source": [
        "brics = pd.read_csv(\"brics.csv\")\n",
        "brics"
      ],
      "metadata": {
        "id": "ZeozBd-tKZYr"
      },
      "execution_count": null,
      "outputs": []
    },
    {
      "cell_type": "markdown",
      "source": [
        "# **Settig the first column as index**"
      ],
      "metadata": {
        "id": "hZAkb8DYLxnw"
      }
    },
    {
      "cell_type": "code",
      "source": [
        "# 0 หมายถึงคอลัมน์ที่ 0\n",
        "brics = pd.read_csv(\"brics.csv\", index_col=0)\n",
        "brics"
      ],
      "metadata": {
        "id": "OEsdTvI5LjCk"
      },
      "execution_count": null,
      "outputs": []
    },
    {
      "cell_type": "markdown",
      "source": [
        "# **Column Access**"
      ],
      "metadata": {
        "id": "jyJ-Ttd0PD6R"
      }
    },
    {
      "cell_type": "code",
      "source": [
        "import pandas as pd\n",
        "\n",
        "brics = pd.read_csv(\"brics.csv\", index_col=0)\n",
        "\n",
        "brics['country'] # Same syntax as dictionary"
      ],
      "metadata": {
        "id": "OpF5RmBEtxPY"
      },
      "execution_count": null,
      "outputs": []
    },
    {
      "cell_type": "code",
      "source": [
        "type(brics['country'])"
      ],
      "metadata": {
        "id": "lKgVShB9t9SL"
      },
      "execution_count": null,
      "outputs": []
    },
    {
      "cell_type": "code",
      "source": [
        "brics[['capital', 'population']]"
      ],
      "metadata": {
        "id": "z5IzefMqPG8A"
      },
      "execution_count": null,
      "outputs": []
    },
    {
      "cell_type": "code",
      "source": [
        "type(brics[['capital', 'population']])"
      ],
      "metadata": {
        "id": "NLDgWTt_uBq1"
      },
      "execution_count": null,
      "outputs": []
    },
    {
      "cell_type": "markdown",
      "source": [
        "# **Row Access**"
      ],
      "metadata": {
        "id": "m7E-fpFsPqo3"
      }
    },
    {
      "cell_type": "code",
      "source": [
        "brics[1:4]"
      ],
      "metadata": {
        "id": "YF7l1rkLPN9z"
      },
      "execution_count": null,
      "outputs": []
    },
    {
      "cell_type": "code",
      "source": [
        "brics.iloc[1:4]"
      ],
      "metadata": {
        "id": "YfziuVWgPvFT"
      },
      "execution_count": null,
      "outputs": []
    },
    {
      "cell_type": "code",
      "source": [
        "brics.loc[['BR']]"
      ],
      "metadata": {
        "id": "pEZ-vl75WtPL"
      },
      "execution_count": null,
      "outputs": []
    },
    {
      "cell_type": "code",
      "source": [
        "brics.loc[['BR', 'IN', 'SA']]"
      ],
      "metadata": {
        "id": "Ues70eZhP0AE"
      },
      "execution_count": null,
      "outputs": []
    },
    {
      "cell_type": "markdown",
      "source": [
        "# **Row & Column loc**"
      ],
      "metadata": {
        "id": "xslHFExiXFsQ"
      }
    },
    {
      "cell_type": "code",
      "source": [
        "brics.loc[[\"RU\", \"IN\", \"CH\"], [\"country\", \"capital\"]]"
      ],
      "metadata": {
        "id": "aJrCWDQhP-PA"
      },
      "execution_count": null,
      "outputs": []
    },
    {
      "cell_type": "markdown",
      "source": [
        "# **Use `loc` to select all rows and some columns**"
      ],
      "metadata": {
        "id": "BvyXOoy7XUY9"
      }
    },
    {
      "cell_type": "code",
      "source": [
        "brics.loc[:, ['country', 'area']] # Recall : means everything.  Here, every row."
      ],
      "metadata": {
        "id": "5ClWqPTNXI7x"
      },
      "execution_count": null,
      "outputs": []
    },
    {
      "cell_type": "markdown",
      "source": [
        "We'll look at more functionalities of dataframe for half of this course.  This will be covered soon later.\n",
        "\n",
        "# **Logic, Control Flow and Filtering**\n",
        "\n",
        "\n"
      ],
      "metadata": {
        "id": "nrE-2IXQu5wU"
      }
    },
    {
      "cell_type": "markdown",
      "source": [
        "## **Numerical comparisons**\n",
        "```\n",
        "<\n",
        "<=\n",
        ">\n",
        ">=\n",
        "==\n",
        "!=\n",
        "\n",
        "```\n"
      ],
      "metadata": {
        "id": "plShTQ1Jzs_v"
      }
    },
    {
      "cell_type": "code",
      "source": [],
      "metadata": {
        "id": "pX_psSX7z0NX"
      },
      "execution_count": null,
      "outputs": []
    },
    {
      "cell_type": "markdown",
      "source": [
        "## **Alphabetical comparison**"
      ],
      "metadata": {
        "id": "CA2PetzPz0qg"
      }
    },
    {
      "cell_type": "code",
      "source": [
        "'cat' < 'dog'"
      ],
      "metadata": {
        "id": "39dv8SPsz653"
      },
      "execution_count": null,
      "outputs": []
    },
    {
      "cell_type": "code",
      "source": [
        "3 < 'cat'"
      ],
      "metadata": {
        "id": "jjD790CT0Cub"
      },
      "execution_count": null,
      "outputs": []
    },
    {
      "cell_type": "code",
      "source": [],
      "metadata": {
        "id": "fwNU9Yii0Fcu"
      },
      "execution_count": null,
      "outputs": []
    },
    {
      "cell_type": "markdown",
      "source": [
        "### **Exercise: Compare arrays**\n",
        "\n",
        "* Make sure to wrap both commands in a **`print()`** statement so that you can inspect the output.\n",
        "\n",
        "  * Which areas in `my_house` are greater than or equal to `18`?\n",
        "  * You can also compare two NumPy arrays element-wise. Which areas in `my_house` are smaller than the ones in `your_house`?\n"
      ],
      "metadata": {
        "id": "bMJVjUQ30jn2"
      }
    },
    {
      "cell_type": "code",
      "source": [
        "import numpy as np\n",
        "\n",
        "my_house = np.array([18.0, 20.0, 10.75, 9.50])\n",
        "your_house = np.array([14.0, 24.0, 14.25, 9.0])\n"
      ],
      "metadata": {
        "id": "IVogBwS40s2A"
      },
      "execution_count": null,
      "outputs": []
    },
    {
      "cell_type": "markdown",
      "source": [
        "# **Logical operators**\n",
        "\n",
        "You must be able to remember the T-F logic table to use these.\n",
        "\n",
        "- `and`, **`&`**\n",
        "- `or`, **`|`**\n",
        "- `not`, **`~`**"
      ],
      "metadata": {
        "id": "EnTBDpYS1Wsm"
      }
    },
    {
      "cell_type": "code",
      "source": [],
      "metadata": {
        "id": "xmoY6nuG25uu"
      },
      "execution_count": null,
      "outputs": []
    },
    {
      "cell_type": "markdown",
      "source": [
        "## **if, elif, else**\n",
        "\n",
        "\n",
        "\n",
        "```\n",
        "if condition (True or False):    <==== Any code block must have colon\n",
        "\n",
        "    do something\n",
        "```\n",
        "\n"
      ],
      "metadata": {
        "id": "3oH0vVPa2613"
      }
    },
    {
      "cell_type": "code",
      "source": [
        "if 414 % 3 == 0:\n",
        "    print('divisible by 3')"
      ],
      "metadata": {
        "id": "SkfrUKns3bEu"
      },
      "execution_count": null,
      "outputs": []
    },
    {
      "cell_type": "code",
      "source": [
        "score = int(input())\n",
        "if 0 <= score < 10:\n",
        "    print('F')\n",
        "elif 10 < score < 20:\n",
        "    print('D')\n",
        "elif 20 < score < 30:\n",
        "    print('C')\n",
        "elif 30 < score < 40:\n",
        "    print('B')\n",
        "elif 40 < score < 50:\n",
        "    print('A')\n",
        "else:\n",
        "    raise ValueError('You enter the wrong range number')"
      ],
      "metadata": {
        "id": "vDdFW2wJ3y5M"
      },
      "execution_count": null,
      "outputs": []
    },
    {
      "cell_type": "markdown",
      "source": [
        "# **Filtering DataFrame**"
      ],
      "metadata": {
        "id": "mP4Wa5CMdDuR"
      }
    },
    {
      "cell_type": "code",
      "source": [
        "import pandas as pd\n",
        "\n",
        "brics = pd.read_csv('brics.csv', index_col=0)\n",
        "\n"
      ],
      "metadata": {
        "id": "2fduWmxkXjDh"
      },
      "execution_count": null,
      "outputs": []
    },
    {
      "cell_type": "markdown",
      "source": [
        "Select countries with area over 8 million\n",
        "\n",
        "1. Select the area column\n",
        "2. Do comparison on area column\n",
        "3. Use result to select countries"
      ],
      "metadata": {
        "id": "-I2bOdFgdMfD"
      }
    },
    {
      "cell_type": "code",
      "source": [
        "brics[brics['area'] > 8]"
      ],
      "metadata": {
        "id": "R5iKE4smdH2o"
      },
      "execution_count": null,
      "outputs": []
    },
    {
      "cell_type": "code",
      "source": [
        "brics[(brics['area'] > 8) & (brics['area'] < 10)]"
      ],
      "metadata": {
        "id": "9GtCQSUydlBI"
      },
      "execution_count": null,
      "outputs": []
    },
    {
      "cell_type": "code",
      "source": [
        "brics[brics['country'].str.startswith('S')]"
      ],
      "metadata": {
        "id": "7TqJwLgR56L3"
      },
      "execution_count": null,
      "outputs": []
    },
    {
      "cell_type": "markdown",
      "source": [
        "### **Exercise: Filtering dataframe (1)**\n",
        "\n",
        "* Extract the `drives_right` column as a Pandas Series and store it as `dr`.\n",
        "* Use `dr`, a boolean Series, to subset the `cars` DataFrame. Store the resulting selection in `sel`.\n",
        "* Print `sel`, and assert that `drives_right` is `True` for all observations."
      ],
      "metadata": {
        "id": "MSi6pmMl6jhd"
      }
    },
    {
      "cell_type": "code",
      "source": [
        "import pandas as pd\n",
        "cars = pd.read_csv('cars.csv', index_col = 0)"
      ],
      "metadata": {
        "id": "FDk4NFFU6urp"
      },
      "execution_count": null,
      "outputs": []
    },
    {
      "cell_type": "markdown",
      "source": [
        "* Convert the code to a one-liner that calculates the variable `sel` as before."
      ],
      "metadata": {
        "id": "_a8LjHnu7KNb"
      }
    },
    {
      "cell_type": "code",
      "source": [],
      "metadata": {
        "id": "fV_t4Irb7Nvw"
      },
      "execution_count": null,
      "outputs": []
    },
    {
      "cell_type": "markdown",
      "source": [
        "### **Exercise: Filtering dataframe (2)**\n",
        "\n",
        "* Filter a DataFrame to name it as `medium`, that includes all the observations of cars that have a `cars_per_cap` between `100` and `500`."
      ],
      "metadata": {
        "id": "cYi779o57Uml"
      }
    },
    {
      "cell_type": "code",
      "source": [
        "import pandas as pd\n",
        "cars = pd.read_csv('cars.csv', index_col = 0)"
      ],
      "metadata": {
        "id": "MVIN288X7a2p"
      },
      "execution_count": null,
      "outputs": []
    },
    {
      "cell_type": "markdown",
      "source": [
        "# **while loop**\n",
        "\n",
        "while loop is just an infinite **`if`** when the condition remains **`True`**.\n",
        "\n",
        "\"repeating action until condition is violated\""
      ],
      "metadata": {
        "id": "BASDPMg1jOSO"
      }
    },
    {
      "cell_type": "code",
      "source": [
        "error = 50.0\n",
        "\n",
        "while error > 1: # True\n",
        "    error /=4  # WHAT HAPPENS IF THIS LINE IS EXCLUDED?\n",
        "    print(error)\n",
        "print(f\"exiting a while loop with error = {error}\")"
      ],
      "metadata": {
        "id": "x8nFVtyQeLBE"
      },
      "execution_count": null,
      "outputs": []
    },
    {
      "cell_type": "markdown",
      "source": [
        "If the condition is always `True`, a while loop will not exit.  Pressing `Ctrl+C`.\n",
        "\n",
        "### **Exercise: Basic while loop**\n",
        "\n",
        "* Create the variable `offset` with an initial value of `8`.\n",
        "\n",
        "* Code a while loop that keeps running as long as `offset` is not equal to `0`. Inside the while loop:\n",
        "  * Print out the sentence `\"correcting...\"`.\n",
        "  * Next, decrease the value of `offset` by `1`. You can do this with `offset = offset - 1`.\n",
        "  * Finally, still within your loop, print out `offset` so you can see how it changes."
      ],
      "metadata": {
        "id": "JGK7sLPekkDK"
      }
    },
    {
      "cell_type": "code",
      "source": [
        "# Initialize offset\n",
        "\n",
        "\n",
        "# Code the while loop\n"
      ],
      "metadata": {
        "id": "EVKFzhPYkOol"
      },
      "execution_count": null,
      "outputs": []
    },
    {
      "cell_type": "markdown",
      "source": [
        "### **Exercise: Add conditionals**\n",
        "\n",
        "The while loop that corrects the `offset` is a good start, but what if `offset` is negative? You can try to run the following code where offset is initialized to `-6`:\n",
        "\n",
        "```\n",
        "# Initialize offset\n",
        "offset = -6\n",
        "\n",
        "# Code the while loop\n",
        "while offset != 0 :\n",
        "    print(\"correcting...\")\n",
        "    offset = offset - 1\n",
        "    print(offset)\n",
        "```\n",
        "\n",
        "but your session will be disconnected. The while loop will <u>never stop</u> running, because `offset` will be further decreased on every run. `offset != 0` will never become `False` and the while loop continues forever.\n",
        "\n",
        "Fix things by putting an if-else statement inside the while loop. If your code is still taking too long to run, you probably made a mistake!\n",
        "\n",
        "* Inside the while loop, complete the if-else statement:\n",
        "  * If `offset` is greater than zero, you should decrease `offset` by `1`.\n",
        "  * Else, you should increase `offset` by `1`.\n"
      ],
      "metadata": {
        "id": "BXi46hHPNv8h"
      }
    },
    {
      "cell_type": "code",
      "source": [
        "# Initialize offset\n",
        "offset = -6\n",
        "\n",
        "# Code the while loop\n",
        "while offset != 0 :\n",
        "    print(\"correcting...\")\n",
        "    if ???? :\n",
        "        ????\n",
        "    else :\n",
        "        ????\n",
        "    print(offset)"
      ],
      "metadata": {
        "id": "JCwmBz-LNnlv"
      },
      "execution_count": null,
      "outputs": []
    },
    {
      "cell_type": "markdown",
      "source": [
        "# **for loop**\n",
        "\n",
        "\n",
        "\n",
        "```\n",
        "for var in iterable:\n",
        "    do something\n",
        "```\n",
        "\n",
        "\n",
        "\n",
        "\n"
      ],
      "metadata": {
        "id": "6f1LSOoRRblG"
      }
    },
    {
      "cell_type": "code",
      "source": [
        "fam = [1.73, 1.68, 1.71, 1.89]\n",
        "\n",
        "for height in fam:\n",
        "    print(height)"
      ],
      "metadata": {
        "id": "RfCh2NfvHkNO"
      },
      "execution_count": null,
      "outputs": []
    },
    {
      "cell_type": "code",
      "source": [
        "for index, height in enumerate(fam) :\n",
        "    print(\"person \" + str(index) + \": \" + str(height))"
      ],
      "metadata": {
        "id": "DdXegtRwH9g2"
      },
      "execution_count": null,
      "outputs": []
    },
    {
      "cell_type": "markdown",
      "source": [
        "* Index starts at 0.  Fix the above code to make index starts at 1."
      ],
      "metadata": {
        "id": "D6oc_wU7IP2K"
      }
    },
    {
      "cell_type": "code",
      "source": [],
      "metadata": {
        "id": "yUIOx_81IWrr"
      },
      "execution_count": null,
      "outputs": []
    },
    {
      "cell_type": "markdown",
      "source": [
        "## **For loop over string**"
      ],
      "metadata": {
        "id": "mluA_fR7Iab-"
      }
    },
    {
      "cell_type": "code",
      "source": [
        "for alphabet in 'merde':\n",
        "    print(alphabet)"
      ],
      "metadata": {
        "id": "K_cldr0PIhY1"
      },
      "execution_count": null,
      "outputs": []
    },
    {
      "cell_type": "markdown",
      "source": [
        "## **Usual for loop**\n"
      ],
      "metadata": {
        "id": "IwvuErQTIqxx"
      }
    },
    {
      "cell_type": "code",
      "source": [
        "for i in range(1, 11, 2):\n",
        "    print(i)"
      ],
      "metadata": {
        "id": "ci-sOnM9Iunz"
      },
      "execution_count": null,
      "outputs": []
    },
    {
      "cell_type": "markdown",
      "source": [
        "### **Loop over list of lists**\n",
        "\n",
        "\n",
        "* Write a for loop that goes through each sublist of `house` and prints out\n",
        "\n",
        "```\n",
        "the x is y sqm\n",
        "```\n",
        "where `x` is the name of the room and `y` is the area of the room."
      ],
      "metadata": {
        "id": "M9YkFNN_Sv3r"
      }
    },
    {
      "cell_type": "code",
      "source": [
        "# house list of lists\n",
        "house = [[\"hallway\", 11.25],\n",
        "         [\"kitchen\", 18.0],\n",
        "         [\"living room\", 20.0],\n",
        "         [\"bedroom\", 10.75],\n",
        "         [\"bathroom\", 9.50]]\n",
        "\n",
        "# Build a for loop from scratch"
      ],
      "metadata": {
        "id": "Y4EBxSyQSdNd"
      },
      "execution_count": null,
      "outputs": []
    },
    {
      "cell_type": "markdown",
      "source": [
        "# **for loop over dictionary**\n",
        "\n",
        "Use **`.items()`** method"
      ],
      "metadata": {
        "id": "TWf6bFpSagmz"
      }
    },
    {
      "cell_type": "code",
      "source": [
        "world = { \"afghanistan\":30.55,\n",
        "         \"albania\":2.77,\n",
        "          \"algeria\":39.21 }\n",
        "\n",
        "for key, value in world.items() :\n",
        "    print(key + \" -- \" + str(value))"
      ],
      "metadata": {
        "id": "5AZMEFcRUi-A"
      },
      "execution_count": null,
      "outputs": []
    },
    {
      "cell_type": "markdown",
      "source": [
        "# **for loop over 2D numpy arrays**\n",
        "\n",
        "Use **`np.nditer()`**  (We rarely use this so let's not linger here.)"
      ],
      "metadata": {
        "id": "aTbTiTeebV2P"
      }
    },
    {
      "cell_type": "code",
      "source": [
        "import numpy as np\n",
        "\n",
        "np_height = np.array([1.73, 1.68, 1.71, 1.89, 1.79])\n",
        "np_weight = np.array([65.4, 59.2, 63.6, 88.4, 68.7])\n",
        "meas = np.array([np_height, np_weight])\n",
        "print(meas, \"\\n\")\n",
        "\n",
        "for val in np.nditer(meas):\n",
        "    print(val)"
      ],
      "metadata": {
        "id": "92-eHou3alf3"
      },
      "execution_count": null,
      "outputs": []
    },
    {
      "cell_type": "markdown",
      "source": [
        "* Write the nested **`for`** loop to get the same result as above."
      ],
      "metadata": {
        "id": "r6TcjSAqKsqL"
      }
    },
    {
      "cell_type": "code",
      "source": [
        "for ____ in meas:\n",
        "    for"
      ],
      "metadata": {
        "id": "otDTAcVqKhla"
      },
      "execution_count": null,
      "outputs": []
    },
    {
      "cell_type": "markdown",
      "source": [
        "# **for loop in pandas**\n"
      ],
      "metadata": {
        "id": "qRAygHYALnnN"
      }
    },
    {
      "cell_type": "code",
      "source": [
        "import pandas as pd\n",
        "\n",
        "brics = pd.read_csv(\"brics.csv\", index_col=0)\n",
        "for val in brics :\n",
        "    print(val)"
      ],
      "metadata": {
        "id": "0CSQLBfGLr-T"
      },
      "execution_count": null,
      "outputs": []
    },
    {
      "cell_type": "markdown",
      "source": [
        "This is not exactly what we want."
      ],
      "metadata": {
        "id": "SoXNWLGdLw5x"
      }
    },
    {
      "cell_type": "markdown",
      "source": [
        "# **for loop over the rows of pandas dataframe**\n",
        "\n",
        "Use **`.iterrows()`** method"
      ],
      "metadata": {
        "id": "aN5x7Jucdvus"
      }
    },
    {
      "cell_type": "code",
      "source": [
        "brics = pd.read_csv(\"brics.csv\", index_col=0)\n",
        "display(brics)\n",
        "\n",
        "print(\"\\n\")\n",
        "for i, j in brics.iterrows():\n",
        "    print(f\"label = {i}\\n\")\n",
        "    print(f\"row = ...\")\n",
        "    print(j, \"\\n\")"
      ],
      "metadata": {
        "id": "OYQzRcpFbrgO"
      },
      "execution_count": null,
      "outputs": []
    },
    {
      "cell_type": "markdown",
      "source": [
        "The `j` variable is a Series.  We can select some element from it."
      ],
      "metadata": {
        "id": "G5LLM_hCfy__"
      }
    },
    {
      "cell_type": "code",
      "source": [
        "for lab, row in brics.iterrows():\n",
        "    print(f\"{lab} : {row['capital']}\")"
      ],
      "metadata": {
        "id": "VtZ2HsdUeLN2"
      },
      "execution_count": null,
      "outputs": []
    },
    {
      "cell_type": "code",
      "source": [
        "for lab, row in brics.iterrows():\n",
        "    print(f\"{lab} : {row['country']}\")"
      ],
      "metadata": {
        "id": "k6kAllI9gKUm"
      },
      "execution_count": null,
      "outputs": []
    },
    {
      "cell_type": "markdown",
      "source": [
        "# **Add column** (Not good)"
      ],
      "metadata": {
        "id": "TEKPZEMigzq0"
      }
    },
    {
      "cell_type": "code",
      "source": [
        "for i, j in brics.iterrows() :\n",
        "    brics.loc[i, \"name_length\"] = len(j[\"country\"])\n",
        "\n",
        "display(brics)"
      ],
      "metadata": {
        "id": "B3WxI5VkgX_M"
      },
      "execution_count": null,
      "outputs": []
    },
    {
      "cell_type": "markdown",
      "source": [
        "## **Better way of adding columns**"
      ],
      "metadata": {
        "id": "7gdu_71BhhUi"
      }
    },
    {
      "cell_type": "code",
      "source": [
        "brics = pd.read_csv(\"brics.csv\", index_col=0)\n",
        "\n",
        "brics[\"name_length\"] = brics[\"country\"].apply(len)\n",
        "brics"
      ],
      "metadata": {
        "id": "agZ5HucBhEu3"
      },
      "execution_count": null,
      "outputs": []
    },
    {
      "cell_type": "markdown",
      "source": [
        "### **Exercise: Loop over DataFrame (1)**\n",
        "\n",
        "Iterating over a Pandas DataFrame is typically done with the **`.iterrows()`** method. Used in a **`for`** loop, every observation is iterated over and on every iteration the row label and actual row contents are available:\n",
        "\n",
        "```\n",
        "for label, row in brics.iterrows() :\n",
        "    ...\n",
        "```\n",
        "\n",
        "In this and the following exercises you will be working on the `cars` DataFrame. It contains information on the cars per capita and whether people drive right or left for seven countries in the world.\n",
        "\n",
        "\n",
        "Instructions\n",
        "\n",
        "Write a `for` loop that iterates over the rows of cars and on each iteration perform two `print()` calls: one to print out the row label and one to print out all of the rows contents."
      ],
      "metadata": {
        "id": "ktFxnfakiFFp"
      }
    },
    {
      "cell_type": "code",
      "source": [
        "# Import cars data\n",
        "import pandas as pd\n",
        "cars = pd.read_csv('cars.csv', index_col = 0)\n",
        "\n",
        "# Iterate over rows of cars\n"
      ],
      "metadata": {
        "id": "Pa612A_whu0b"
      },
      "execution_count": null,
      "outputs": []
    },
    {
      "cell_type": "markdown",
      "source": [
        "### **Exercise: Loop over DataFrame (2)**\n",
        "\n",
        "The row data that's generated by **`iterrows()`** on every run is a Pandas <u>Series</u>. This format is not very convenient to print out. Luckily, you can easily select variables from the Pandas Series using square brackets:\n",
        "\n",
        "```\n",
        "for lab, row in brics.iterrows() :\n",
        "    print(row['country'])\n",
        "```\n",
        "\n",
        "\n",
        "Instructions\n",
        "\n",
        "* Using the iterators `lab` and `row`, adapt the code in the for loop such that the first iteration prints out `\"US: 809\"`, the second iteration `\"AUS: 731\"`, and so on.\n",
        "\n",
        "* The output should be in the form `\"country: cars_per_cap\"`. Make sure to print out this exact string (with the correct spacing).\n",
        "\n",
        "You can use **`str()`** to convert your integer data to a string so that you can print it in conjunction with the country label."
      ],
      "metadata": {
        "id": "YEYTO7FIi5Vd"
      }
    },
    {
      "cell_type": "code",
      "source": [
        "cars = pd.read_csv('cars.csv', index_col=0)\n",
        "\n",
        "# Adapt for loop\n"
      ],
      "metadata": {
        "id": "PF60jUUniyLd"
      },
      "execution_count": null,
      "outputs": []
    },
    {
      "cell_type": "code",
      "source": [],
      "metadata": {
        "id": "oTD8fN9kOBOP"
      },
      "execution_count": null,
      "outputs": []
    },
    {
      "cell_type": "markdown",
      "source": [
        "### **Exercise: Add column (1)**\n",
        "\n",
        "* Create a new column `'cars_per_cap (hundreds)'` by doing some arithmetic operation.\n"
      ],
      "metadata": {
        "id": "V_PSHXeTOGQp"
      }
    },
    {
      "cell_type": "code",
      "source": [
        "# Import cars data\n",
        "\n",
        "import pandas as pd\n",
        "cars = pd.read_csv('cars.csv', index_col=0)"
      ],
      "metadata": {
        "id": "aifBFfB5OqBx"
      },
      "execution_count": null,
      "outputs": []
    },
    {
      "cell_type": "markdown",
      "source": [
        "### **Add column (2)**\n",
        "\n",
        "If you want to add a column to a DataFrame by calling a function on another column, the **`.iterrows()`** method in combination with a for loop is not the preferred way to go. Instead, you'll want to use **`.apply()`**.\n",
        "\n",
        "\n",
        "```\n",
        "for lab, row in brics.iterrows() :\n",
        "    brics.loc[lab, \"name_length\"] = len(row[\"country\"])\n",
        "```\n",
        "\n",
        "```\n",
        "brics[\"name_length\"] = brics[\"country\"].apply(len)\n",
        "```\n",
        "\n",
        "We can do a similar thing to call the **`.upper()`** method on every name in the country column. However, **`.upper()`** is a method, so we'll need a slightly different approach:\n",
        "\n",
        "Replace the for loop with a one-liner that uses **`.apply(str.upper)`**."
      ],
      "metadata": {
        "id": "Ks3qCb45lm9W"
      }
    },
    {
      "cell_type": "code",
      "source": [
        "cars = pd.read_csv('cars.csv', index_col=0)\n",
        "\n",
        "# Use .apply(str.upper)\n",
        "cars['COUNTRY'] = ????"
      ],
      "metadata": {
        "id": "XFAe22BKknk0"
      },
      "execution_count": null,
      "outputs": []
    },
    {
      "cell_type": "markdown",
      "source": [
        "Now it is time to dive in the real thing."
      ],
      "metadata": {
        "id": "S0u5u9lzPWTy"
      }
    },
    {
      "cell_type": "code",
      "source": [],
      "metadata": {
        "id": "6MTldfAIPZdS"
      },
      "execution_count": null,
      "outputs": []
    }
  ]
}